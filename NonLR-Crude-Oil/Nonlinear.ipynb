{
 "cells": [
  {
   "cell_type": "code",
   "execution_count": 1,
   "id": "895b140e",
   "metadata": {},
   "outputs": [],
   "source": [
    "import numpy.polynomial.polynomial as poly\n",
    "import pandas as pd\n",
    "import numpy as np\n",
    "import matplotlib.pyplot as plt"
   ]
  },
  {
   "cell_type": "code",
   "execution_count": 2,
   "id": "db19ad1d",
   "metadata": {},
   "outputs": [
    {
     "data": {
      "text/html": [
       "<div>\n",
       "<style scoped>\n",
       "    .dataframe tbody tr th:only-of-type {\n",
       "        vertical-align: middle;\n",
       "    }\n",
       "\n",
       "    .dataframe tbody tr th {\n",
       "        vertical-align: top;\n",
       "    }\n",
       "\n",
       "    .dataframe thead th {\n",
       "        text-align: right;\n",
       "    }\n",
       "</style>\n",
       "<table border=\"1\" class=\"dataframe\">\n",
       "  <thead>\n",
       "    <tr style=\"text-align: right;\">\n",
       "      <th></th>\n",
       "      <th>Date</th>\n",
       "      <th>Open</th>\n",
       "      <th>High</th>\n",
       "      <th>Low</th>\n",
       "      <th>Close</th>\n",
       "      <th>Adj Close</th>\n",
       "      <th>Volume</th>\n",
       "    </tr>\n",
       "  </thead>\n",
       "  <tbody>\n",
       "    <tr>\n",
       "      <th>1744</th>\n",
       "      <td>2022-12-06</td>\n",
       "      <td>77.35</td>\n",
       "      <td>77.88</td>\n",
       "      <td>73.41</td>\n",
       "      <td>74.25</td>\n",
       "      <td>74.25</td>\n",
       "      <td>380598</td>\n",
       "    </tr>\n",
       "    <tr>\n",
       "      <th>1745</th>\n",
       "      <td>2022-12-07</td>\n",
       "      <td>74.55</td>\n",
       "      <td>75.38</td>\n",
       "      <td>71.75</td>\n",
       "      <td>72.01</td>\n",
       "      <td>72.01</td>\n",
       "      <td>392236</td>\n",
       "    </tr>\n",
       "    <tr>\n",
       "      <th>1746</th>\n",
       "      <td>2022-12-08</td>\n",
       "      <td>72.38</td>\n",
       "      <td>75.44</td>\n",
       "      <td>71.12</td>\n",
       "      <td>71.46</td>\n",
       "      <td>71.46</td>\n",
       "      <td>474459</td>\n",
       "    </tr>\n",
       "    <tr>\n",
       "      <th>1747</th>\n",
       "      <td>2022-12-09</td>\n",
       "      <td>71.85</td>\n",
       "      <td>72.92</td>\n",
       "      <td>70.08</td>\n",
       "      <td>71.02</td>\n",
       "      <td>71.02</td>\n",
       "      <td>356722</td>\n",
       "    </tr>\n",
       "    <tr>\n",
       "      <th>1748</th>\n",
       "      <td>2022-12-12</td>\n",
       "      <td>71.79</td>\n",
       "      <td>73.99</td>\n",
       "      <td>70.25</td>\n",
       "      <td>73.17</td>\n",
       "      <td>73.17</td>\n",
       "      <td>356722</td>\n",
       "    </tr>\n",
       "  </tbody>\n",
       "</table>\n",
       "</div>"
      ],
      "text/plain": [
       "            Date   Open   High    Low  Close  Adj Close  Volume\n",
       "1744  2022-12-06  77.35  77.88  73.41  74.25      74.25  380598\n",
       "1745  2022-12-07  74.55  75.38  71.75  72.01      72.01  392236\n",
       "1746  2022-12-08  72.38  75.44  71.12  71.46      71.46  474459\n",
       "1747  2022-12-09  71.85  72.92  70.08  71.02      71.02  356722\n",
       "1748  2022-12-12  71.79  73.99  70.25  73.17      73.17  356722"
      ]
     },
     "execution_count": 2,
     "metadata": {},
     "output_type": "execute_result"
    }
   ],
   "source": [
    "df = pd.read_csv(\"D:/Excel/Crude-Oil_160101-221213.csv\")\n",
    "df.tail()"
   ]
  },
  {
   "cell_type": "code",
   "execution_count": 3,
   "id": "5b8b4fd6",
   "metadata": {},
   "outputs": [
    {
     "data": {
      "text/html": [
       "<div>\n",
       "<style scoped>\n",
       "    .dataframe tbody tr th:only-of-type {\n",
       "        vertical-align: middle;\n",
       "    }\n",
       "\n",
       "    .dataframe tbody tr th {\n",
       "        vertical-align: top;\n",
       "    }\n",
       "\n",
       "    .dataframe thead th {\n",
       "        text-align: right;\n",
       "    }\n",
       "</style>\n",
       "<table border=\"1\" class=\"dataframe\">\n",
       "  <thead>\n",
       "    <tr style=\"text-align: right;\">\n",
       "      <th></th>\n",
       "      <th>Date</th>\n",
       "      <th>Open</th>\n",
       "      <th>High</th>\n",
       "      <th>Low</th>\n",
       "      <th>Close</th>\n",
       "      <th>Adj Close</th>\n",
       "      <th>Volume</th>\n",
       "      <th>Time</th>\n",
       "    </tr>\n",
       "  </thead>\n",
       "  <tbody>\n",
       "    <tr>\n",
       "      <th>1744</th>\n",
       "      <td>2022-12-06</td>\n",
       "      <td>77.35</td>\n",
       "      <td>77.88</td>\n",
       "      <td>73.41</td>\n",
       "      <td>74.25</td>\n",
       "      <td>74.25</td>\n",
       "      <td>380598</td>\n",
       "      <td>1744</td>\n",
       "    </tr>\n",
       "    <tr>\n",
       "      <th>1745</th>\n",
       "      <td>2022-12-07</td>\n",
       "      <td>74.55</td>\n",
       "      <td>75.38</td>\n",
       "      <td>71.75</td>\n",
       "      <td>72.01</td>\n",
       "      <td>72.01</td>\n",
       "      <td>392236</td>\n",
       "      <td>1745</td>\n",
       "    </tr>\n",
       "    <tr>\n",
       "      <th>1746</th>\n",
       "      <td>2022-12-08</td>\n",
       "      <td>72.38</td>\n",
       "      <td>75.44</td>\n",
       "      <td>71.12</td>\n",
       "      <td>71.46</td>\n",
       "      <td>71.46</td>\n",
       "      <td>474459</td>\n",
       "      <td>1746</td>\n",
       "    </tr>\n",
       "    <tr>\n",
       "      <th>1747</th>\n",
       "      <td>2022-12-09</td>\n",
       "      <td>71.85</td>\n",
       "      <td>72.92</td>\n",
       "      <td>70.08</td>\n",
       "      <td>71.02</td>\n",
       "      <td>71.02</td>\n",
       "      <td>356722</td>\n",
       "      <td>1747</td>\n",
       "    </tr>\n",
       "    <tr>\n",
       "      <th>1748</th>\n",
       "      <td>2022-12-12</td>\n",
       "      <td>71.79</td>\n",
       "      <td>73.99</td>\n",
       "      <td>70.25</td>\n",
       "      <td>73.17</td>\n",
       "      <td>73.17</td>\n",
       "      <td>356722</td>\n",
       "      <td>1748</td>\n",
       "    </tr>\n",
       "  </tbody>\n",
       "</table>\n",
       "</div>"
      ],
      "text/plain": [
       "            Date   Open   High    Low  Close  Adj Close  Volume  Time\n",
       "1744  2022-12-06  77.35  77.88  73.41  74.25      74.25  380598  1744\n",
       "1745  2022-12-07  74.55  75.38  71.75  72.01      72.01  392236  1745\n",
       "1746  2022-12-08  72.38  75.44  71.12  71.46      71.46  474459  1746\n",
       "1747  2022-12-09  71.85  72.92  70.08  71.02      71.02  356722  1747\n",
       "1748  2022-12-12  71.79  73.99  70.25  73.17      73.17  356722  1748"
      ]
     },
     "execution_count": 3,
     "metadata": {},
     "output_type": "execute_result"
    }
   ],
   "source": [
    "df['Time'] = np.arange(len(df.index))\n",
    "df.tail()"
   ]
  },
  {
   "cell_type": "code",
   "execution_count": 4,
   "id": "bfcf9666",
   "metadata": {},
   "outputs": [
    {
     "data": {
      "text/plain": [
       "pandas.core.series.Series"
      ]
     },
     "execution_count": 4,
     "metadata": {},
     "output_type": "execute_result"
    }
   ],
   "source": [
    "df['Date_New'] = pd.to_datetime(df.Date)\n",
    "type(df['Date_New'])"
   ]
  },
  {
   "cell_type": "code",
   "execution_count": 5,
   "id": "a6ede4b0",
   "metadata": {},
   "outputs": [
    {
     "data": {
      "text/html": [
       "<div>\n",
       "<style scoped>\n",
       "    .dataframe tbody tr th:only-of-type {\n",
       "        vertical-align: middle;\n",
       "    }\n",
       "\n",
       "    .dataframe tbody tr th {\n",
       "        vertical-align: top;\n",
       "    }\n",
       "\n",
       "    .dataframe thead th {\n",
       "        text-align: right;\n",
       "    }\n",
       "</style>\n",
       "<table border=\"1\" class=\"dataframe\">\n",
       "  <thead>\n",
       "    <tr style=\"text-align: right;\">\n",
       "      <th></th>\n",
       "      <th>Date</th>\n",
       "      <th>Open</th>\n",
       "      <th>High</th>\n",
       "      <th>Low</th>\n",
       "      <th>Close</th>\n",
       "      <th>Adj Close</th>\n",
       "      <th>Volume</th>\n",
       "      <th>Time</th>\n",
       "      <th>Date_New</th>\n",
       "    </tr>\n",
       "    <tr>\n",
       "      <th>Date_New</th>\n",
       "      <th></th>\n",
       "      <th></th>\n",
       "      <th></th>\n",
       "      <th></th>\n",
       "      <th></th>\n",
       "      <th></th>\n",
       "      <th></th>\n",
       "      <th></th>\n",
       "      <th></th>\n",
       "    </tr>\n",
       "  </thead>\n",
       "  <tbody>\n",
       "    <tr>\n",
       "      <th>2016-01-04</th>\n",
       "      <td>2016-01-04</td>\n",
       "      <td>37.60</td>\n",
       "      <td>38.39</td>\n",
       "      <td>36.33</td>\n",
       "      <td>36.76</td>\n",
       "      <td>36.76</td>\n",
       "      <td>431985</td>\n",
       "      <td>0</td>\n",
       "      <td>2016-01-04</td>\n",
       "    </tr>\n",
       "    <tr>\n",
       "      <th>2016-01-05</th>\n",
       "      <td>2016-01-05</td>\n",
       "      <td>36.90</td>\n",
       "      <td>37.10</td>\n",
       "      <td>35.74</td>\n",
       "      <td>35.97</td>\n",
       "      <td>35.97</td>\n",
       "      <td>410131</td>\n",
       "      <td>1</td>\n",
       "      <td>2016-01-05</td>\n",
       "    </tr>\n",
       "    <tr>\n",
       "      <th>2016-01-06</th>\n",
       "      <td>2016-01-06</td>\n",
       "      <td>36.18</td>\n",
       "      <td>36.39</td>\n",
       "      <td>33.77</td>\n",
       "      <td>33.97</td>\n",
       "      <td>33.97</td>\n",
       "      <td>563811</td>\n",
       "      <td>2</td>\n",
       "      <td>2016-01-06</td>\n",
       "    </tr>\n",
       "    <tr>\n",
       "      <th>2016-01-07</th>\n",
       "      <td>2016-01-07</td>\n",
       "      <td>34.09</td>\n",
       "      <td>34.26</td>\n",
       "      <td>32.10</td>\n",
       "      <td>33.27</td>\n",
       "      <td>33.27</td>\n",
       "      <td>617409</td>\n",
       "      <td>3</td>\n",
       "      <td>2016-01-07</td>\n",
       "    </tr>\n",
       "    <tr>\n",
       "      <th>2016-01-08</th>\n",
       "      <td>2016-01-08</td>\n",
       "      <td>33.30</td>\n",
       "      <td>34.34</td>\n",
       "      <td>32.64</td>\n",
       "      <td>33.16</td>\n",
       "      <td>33.16</td>\n",
       "      <td>596496</td>\n",
       "      <td>4</td>\n",
       "      <td>2016-01-08</td>\n",
       "    </tr>\n",
       "    <tr>\n",
       "      <th>...</th>\n",
       "      <td>...</td>\n",
       "      <td>...</td>\n",
       "      <td>...</td>\n",
       "      <td>...</td>\n",
       "      <td>...</td>\n",
       "      <td>...</td>\n",
       "      <td>...</td>\n",
       "      <td>...</td>\n",
       "      <td>...</td>\n",
       "    </tr>\n",
       "    <tr>\n",
       "      <th>2022-12-06</th>\n",
       "      <td>2022-12-06</td>\n",
       "      <td>77.35</td>\n",
       "      <td>77.88</td>\n",
       "      <td>73.41</td>\n",
       "      <td>74.25</td>\n",
       "      <td>74.25</td>\n",
       "      <td>380598</td>\n",
       "      <td>1744</td>\n",
       "      <td>2022-12-06</td>\n",
       "    </tr>\n",
       "    <tr>\n",
       "      <th>2022-12-07</th>\n",
       "      <td>2022-12-07</td>\n",
       "      <td>74.55</td>\n",
       "      <td>75.38</td>\n",
       "      <td>71.75</td>\n",
       "      <td>72.01</td>\n",
       "      <td>72.01</td>\n",
       "      <td>392236</td>\n",
       "      <td>1745</td>\n",
       "      <td>2022-12-07</td>\n",
       "    </tr>\n",
       "    <tr>\n",
       "      <th>2022-12-08</th>\n",
       "      <td>2022-12-08</td>\n",
       "      <td>72.38</td>\n",
       "      <td>75.44</td>\n",
       "      <td>71.12</td>\n",
       "      <td>71.46</td>\n",
       "      <td>71.46</td>\n",
       "      <td>474459</td>\n",
       "      <td>1746</td>\n",
       "      <td>2022-12-08</td>\n",
       "    </tr>\n",
       "    <tr>\n",
       "      <th>2022-12-09</th>\n",
       "      <td>2022-12-09</td>\n",
       "      <td>71.85</td>\n",
       "      <td>72.92</td>\n",
       "      <td>70.08</td>\n",
       "      <td>71.02</td>\n",
       "      <td>71.02</td>\n",
       "      <td>356722</td>\n",
       "      <td>1747</td>\n",
       "      <td>2022-12-09</td>\n",
       "    </tr>\n",
       "    <tr>\n",
       "      <th>2022-12-12</th>\n",
       "      <td>2022-12-12</td>\n",
       "      <td>71.79</td>\n",
       "      <td>73.99</td>\n",
       "      <td>70.25</td>\n",
       "      <td>73.17</td>\n",
       "      <td>73.17</td>\n",
       "      <td>356722</td>\n",
       "      <td>1748</td>\n",
       "      <td>2022-12-12</td>\n",
       "    </tr>\n",
       "  </tbody>\n",
       "</table>\n",
       "<p>1749 rows × 9 columns</p>\n",
       "</div>"
      ],
      "text/plain": [
       "                  Date   Open   High    Low  Close  Adj Close  Volume  Time  \\\n",
       "Date_New                                                                      \n",
       "2016-01-04  2016-01-04  37.60  38.39  36.33  36.76      36.76  431985     0   \n",
       "2016-01-05  2016-01-05  36.90  37.10  35.74  35.97      35.97  410131     1   \n",
       "2016-01-06  2016-01-06  36.18  36.39  33.77  33.97      33.97  563811     2   \n",
       "2016-01-07  2016-01-07  34.09  34.26  32.10  33.27      33.27  617409     3   \n",
       "2016-01-08  2016-01-08  33.30  34.34  32.64  33.16      33.16  596496     4   \n",
       "...                ...    ...    ...    ...    ...        ...     ...   ...   \n",
       "2022-12-06  2022-12-06  77.35  77.88  73.41  74.25      74.25  380598  1744   \n",
       "2022-12-07  2022-12-07  74.55  75.38  71.75  72.01      72.01  392236  1745   \n",
       "2022-12-08  2022-12-08  72.38  75.44  71.12  71.46      71.46  474459  1746   \n",
       "2022-12-09  2022-12-09  71.85  72.92  70.08  71.02      71.02  356722  1747   \n",
       "2022-12-12  2022-12-12  71.79  73.99  70.25  73.17      73.17  356722  1748   \n",
       "\n",
       "             Date_New  \n",
       "Date_New               \n",
       "2016-01-04 2016-01-04  \n",
       "2016-01-05 2016-01-05  \n",
       "2016-01-06 2016-01-06  \n",
       "2016-01-07 2016-01-07  \n",
       "2016-01-08 2016-01-08  \n",
       "...               ...  \n",
       "2022-12-06 2022-12-06  \n",
       "2022-12-07 2022-12-07  \n",
       "2022-12-08 2022-12-08  \n",
       "2022-12-09 2022-12-09  \n",
       "2022-12-12 2022-12-12  \n",
       "\n",
       "[1749 rows x 9 columns]"
      ]
     },
     "execution_count": 5,
     "metadata": {},
     "output_type": "execute_result"
    }
   ],
   "source": [
    "df.index = df['Date_New']\n",
    "df"
   ]
  },
  {
   "cell_type": "code",
   "execution_count": 6,
   "id": "90d466a0",
   "metadata": {},
   "outputs": [
    {
     "data": {
      "text/plain": [
       "1749"
      ]
     },
     "execution_count": 6,
     "metadata": {},
     "output_type": "execute_result"
    }
   ],
   "source": [
    "len(df)"
   ]
  },
  {
   "cell_type": "code",
   "execution_count": 7,
   "id": "f52ae1c0",
   "metadata": {},
   "outputs": [
    {
     "data": {
      "text/plain": [
       "<AxesSubplot:xlabel='Date'>"
      ]
     },
     "execution_count": 7,
     "metadata": {},
     "output_type": "execute_result"
    },
    {
     "data": {
      "image/png": "[encoded data removed]",
      "text/plain": [
       "<Figure size 864x360 with 1 Axes>"
      ]
     },
     "metadata": {
      "needs_background": "light"
     },
     "output_type": "display_data"
    }
   ],
   "source": [
    "df.plot(x = 'Date', y = 'Close', figsize = (12,5))"
   ]
  },
  {
   "cell_type": "code",
   "execution_count": 8,
   "id": "32005cd0",
   "metadata": {},
   "outputs": [],
   "source": [
    "x = np.array(df.Time, dtype = float)\n",
    "y = np.array(df.Close, dtype = float)\n",
    "z = [1749,1750,1751,1752,1753,1754,1755,1756,1757,1758,1759,1760,1761,1762,1763,1764,1765,1766,1767,1768,1769,1770,1771,1772,1773,1774,1775,1776,1777,1778]"
   ]
  },
  {
   "cell_type": "code",
   "execution_count": 9,
   "id": "ad2d5cf5",
   "metadata": {},
   "outputs": [],
   "source": [
    "no_of_predictions = 30\n",
    "datelist_future = pd.date_range(start = \"12/13/2022\",end = \"01/11/2023\")"
   ]
  },
  {
   "cell_type": "code",
   "execution_count": 11,
   "id": "0d514e06",
   "metadata": {},
   "outputs": [
    {
     "name": "stdout",
     "output_type": "stream",
     "text": [
      "                   0\n",
      "69.282449 2022-12-13\n",
      "68.642890 2022-12-14\n",
      "67.994526 2022-12-15\n",
      "67.337275 2022-12-16\n",
      "66.671054 2022-12-17\n",
      "65.995779 2022-12-18\n",
      "65.311366 2022-12-19\n",
      "64.617730 2022-12-20\n",
      "63.914784 2022-12-21\n",
      "63.202443 2022-12-22\n",
      "62.480618 2022-12-23\n",
      "61.749223 2022-12-24\n",
      "61.008167 2022-12-25\n",
      "60.257362 2022-12-26\n",
      "59.496716 2022-12-27\n",
      "58.726140 2022-12-28\n",
      "57.945541 2022-12-29\n",
      "57.154826 2022-12-30\n",
      "56.353903 2022-12-31\n",
      "55.542677 2023-01-01\n",
      "54.721052 2023-01-02\n",
      "53.888934 2023-01-03\n",
      "53.046226 2023-01-04\n",
      "52.192829 2023-01-05\n",
      "51.328648 2023-01-06\n",
      "50.453581 2023-01-07\n",
      "49.567530 2023-01-08\n",
      "48.670393 2023-01-09\n",
      "47.762070 2023-01-10\n",
      "46.842458 2023-01-11\n"
     ]
    }
   ],
   "source": [
    "coefs = poly.polyfit(x, y, 9)\n",
    "x_new = np.linspace(x[0], x[-1] + no_of_predictions, num = len(x) + no_of_predictions)\n",
    "ffit = poly.polyval(x_new, coefs)\n",
    "fit = poly.polyval(y, coefs)\n",
    "pred = poly.polyval(z, coefs)\n",
    "predictions = pd.DataFrame(datelist_future,pred)\n",
    "print(predictions)"
   ]
  },
  {
   "cell_type": "code",
   "execution_count": 74,
   "id": "7776fef7",
   "metadata": {},
   "outputs": [
    {
     "data": {
      "text/plain": [
       "DatetimeIndex(['2016-01-04', '2016-01-05', '2016-01-06', '2016-01-07',\n",
       "               '2016-01-08', '2016-01-11', '2016-01-12', '2016-01-13',\n",
       "               '2016-01-14', '2016-01-15',\n",
       "               ...\n",
       "               '2023-01-02', '2023-01-03', '2023-01-04', '2023-01-05',\n",
       "               '2023-01-06', '2023-01-07', '2023-01-08', '2023-01-09',\n",
       "               '2023-01-10', '2023-01-11'],\n",
       "              dtype='datetime64[ns]', length=1779, freq=None)"
      ]
     },
     "execution_count": 74,
     "metadata": {},
     "output_type": "execute_result"
    }
   ],
   "source": [
    "new_date = df.index.append(datelist_future)\n",
    "new_date"
   ]
  },
  {
   "cell_type": "code",
   "execution_count": 84,
   "id": "f2da41fe",
   "metadata": {},
   "outputs": [
    {
     "data": {
      "text/plain": [
       "1749"
      ]
     },
     "execution_count": 84,
     "metadata": {},
     "output_type": "execute_result"
    }
   ],
   "source": [
    "len(fit)"
   ]
  },
  {
   "cell_type": "code",
   "execution_count": 75,
   "id": "8f8fa658",
   "metadata": {},
   "outputs": [
    {
     "data": {
      "image/png": "[encoded data removed]",
      "text/plain": [
       "<Figure size 864x360 with 1 Axes>"
      ]
     },
     "metadata": {
      "needs_background": "light"
     },
     "output_type": "display_data"
    }
   ],
   "source": [
    "plt.figure(figsize = (12,5))\n",
    "plt.title('Crude oil forecast next 30 days by NLR Model')\n",
    "plt.plot(df['Date_New'], y, 'blue', label = \"Original data\")\n",
    "plt.plot(new_date, ffit, 'black', label = \"Fitted data\")\n",
    "plt.plot(datelist_future, pred, 'red', label = \"Nonlinear prediction\")\n",
    "plt.legend(loc = 'upper left')\n",
    "plt.show()"
   ]
  },
  {
   "cell_type": "code",
   "execution_count": 89,
   "id": "6f94cc98",
   "metadata": {},
   "outputs": [
    {
     "name": "stdout",
     "output_type": "stream",
     "text": [
      "RMSE:  25.83882069602749\n",
      "MAPE:  31.509764081624\n"
     ]
    }
   ],
   "source": [
    "from sklearn.metrics import mean_squared_error\n",
    "from sklearn.metrics import mean_absolute_percentage_error\n",
    "from math import sqrt\n",
    "\n",
    "mse = mean_squared_error(df['Close'], fit)\n",
    "rmse = np.sqrt(mse)\n",
    "mape = mean_absolute_percentage_error(df['Close'], fit)\n",
    "print(\"RMSE: \", rmse)\n",
    "print(\"MAPE: \", mape * 100)"
   ]
  },
  {
   "cell_type": "code",
   "execution_count": null,
   "id": "f31bdc34",
   "metadata": {},
   "outputs": [],
   "source": []
  }
 ],
 "metadata": {
  "kernelspec": {
   "display_name": "Python 3 (ipykernel)",
   "language": "python",
   "name": "python3"
  },
  "language_info": {
   "codemirror_mode": {
    "name": "ipython",
    "version": 3
   },
   "file_extension": ".py",
   "mimetype": "text/x-python",
   "name": "python",
   "nbconvert_exporter": "python",
   "pygments_lexer": "ipython3",
   "version": "3.9.12"
  }
 },
 "nbformat": 4,
 "nbformat_minor": 5
}
