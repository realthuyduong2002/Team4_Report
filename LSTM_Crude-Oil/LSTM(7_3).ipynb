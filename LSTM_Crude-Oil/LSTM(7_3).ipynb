{
 "cells": [
  {
   "cell_type": "code",
   "execution_count": 1,
   "metadata": {
    "id": "zhOZhgOFV4om"
   },
   "outputs": [],
   "source": [
    "from datetime import datetime\n",
    "import pandas as pd\n",
    "import numpy as np\n",
    "import matplotlib.pyplot as plt\n",
    "import math\n",
    "from tensorflow import keras\n",
    "from keras.models import Sequential\n",
    "from keras.layers import Dense, Dropout\n",
    "from keras.layers import LSTM, Flatten\n",
    "from keras.layers import ConvLSTM2D\n",
    "from sklearn.preprocessing import MinMaxScaler\n",
    "from sklearn.metrics import mean_squared_error"
   ]
  },
  {
   "cell_type": "code",
   "execution_count": 2,
   "metadata": {
    "colab": {
     "base_uri": "https://localhost:8080/",
     "height": 237
    },
    "id": "jWTDIMt6V-uA",
    "outputId": "ccea18a2-e96c-4d86-95b7-67cbe4063a65"
   },
   "outputs": [
    {
     "data": {
      "text/html": [
       "\n",
       "  <div id=\"df-4247ad98-3f07-424e-aeb6-3b62f514ea09\">\n",
       "    <div class=\"colab-df-container\">\n",
       "      <div>\n",
       "<style scoped>\n",
       "    .dataframe tbody tr th:only-of-type {\n",
       "        vertical-align: middle;\n",
       "    }\n",
       "\n",
       "    .dataframe tbody tr th {\n",
       "        vertical-align: top;\n",
       "    }\n",
       "\n",
       "    .dataframe thead th {\n",
       "        text-align: right;\n",
       "    }\n",
       "</style>\n",
       "<table border=\"1\" class=\"dataframe\">\n",
       "  <thead>\n",
       "    <tr style=\"text-align: right;\">\n",
       "      <th></th>\n",
       "      <th>Close</th>\n",
       "    </tr>\n",
       "    <tr>\n",
       "      <th>Date</th>\n",
       "      <th></th>\n",
       "    </tr>\n",
       "  </thead>\n",
       "  <tbody>\n",
       "    <tr>\n",
       "      <th>2022-12-06</th>\n",
       "      <td>74.25</td>\n",
       "    </tr>\n",
       "    <tr>\n",
       "      <th>2022-12-07</th>\n",
       "      <td>72.01</td>\n",
       "    </tr>\n",
       "    <tr>\n",
       "      <th>2022-12-08</th>\n",
       "      <td>71.46</td>\n",
       "    </tr>\n",
       "    <tr>\n",
       "      <th>2022-12-09</th>\n",
       "      <td>71.02</td>\n",
       "    </tr>\n",
       "    <tr>\n",
       "      <th>2022-12-12</th>\n",
       "      <td>73.17</td>\n",
       "    </tr>\n",
       "  </tbody>\n",
       "</table>\n",
       "</div>\n",
       "      <button class=\"colab-df-convert\" onclick=\"convertToInteractive('df-4247ad98-3f07-424e-aeb6-3b62f514ea09')\"\n",
       "              title=\"Convert this dataframe to an interactive table.\"\n",
       "              style=\"display:none;\">\n",
       "        \n",
       "  <svg xmlns=\"http://www.w3.org/2000/svg\" height=\"24px\"viewBox=\"0 0 24 24\"\n",
       "       width=\"24px\">\n",
       "    <path d=\"M0 0h24v24H0V0z\" fill=\"none\"/>\n",
       "    <path d=\"M18.56 5.44l.94 2.06.94-2.06 2.06-.94-2.06-.94-.94-2.06-.94 2.06-2.06.94zm-11 1L8.5 8.5l.94-2.06 2.06-.94-2.06-.94L8.5 2.5l-.94 2.06-2.06.94zm10 10l.94 2.06.94-2.06 2.06-.94-2.06-.94-.94-2.06-.94 2.06-2.06.94z\"/><path d=\"M17.41 7.96l-1.37-1.37c-.4-.4-.92-.59-1.43-.59-.52 0-1.04.2-1.43.59L10.3 9.45l-7.72 7.72c-.78.78-.78 2.05 0 2.83L4 21.41c.39.39.9.59 1.41.59.51 0 1.02-.2 1.41-.59l7.78-7.78 2.81-2.81c.8-.78.8-2.07 0-2.86zM5.41 20L4 18.59l7.72-7.72 1.47 1.35L5.41 20z\"/>\n",
       "  </svg>\n",
       "      </button>\n",
       "      \n",
       "  <style>\n",
       "    .colab-df-container {\n",
       "      display:flex;\n",
       "      flex-wrap:wrap;\n",
       "      gap: 12px;\n",
       "    }\n",
       "\n",
       "    .colab-df-convert {\n",
       "      background-color: #E8F0FE;\n",
       "      border: none;\n",
       "      border-radius: 50%;\n",
       "      cursor: pointer;\n",
       "      display: none;\n",
       "      fill: #1967D2;\n",
       "      height: 32px;\n",
       "      padding: 0 0 0 0;\n",
       "      width: 32px;\n",
       "    }\n",
       "\n",
       "    .colab-df-convert:hover {\n",
       "      background-color: #E2EBFA;\n",
       "      box-shadow: 0px 1px 2px rgba(60, 64, 67, 0.3), 0px 1px 3px 1px rgba(60, 64, 67, 0.15);\n",
       "      fill: #174EA6;\n",
       "    }\n",
       "\n",
       "    [theme=dark] .colab-df-convert {\n",
       "      background-color: #3B4455;\n",
       "      fill: #D2E3FC;\n",
       "    }\n",
       "\n",
       "    [theme=dark] .colab-df-convert:hover {\n",
       "      background-color: #434B5C;\n",
       "      box-shadow: 0px 1px 3px 1px rgba(0, 0, 0, 0.15);\n",
       "      filter: drop-shadow(0px 1px 2px rgba(0, 0, 0, 0.3));\n",
       "      fill: #FFFFFF;\n",
       "    }\n",
       "  </style>\n",
       "\n",
       "      <script>\n",
       "        const buttonEl =\n",
       "          document.querySelector('#df-4247ad98-3f07-424e-aeb6-3b62f514ea09 button.colab-df-convert');\n",
       "        buttonEl.style.display =\n",
       "          google.colab.kernel.accessAllowed ? 'block' : 'none';\n",
       "\n",
       "        async function convertToInteractive(key) {\n",
       "          const element = document.querySelector('#df-4247ad98-3f07-424e-aeb6-3b62f514ea09');\n",
       "          const dataTable =\n",
       "            await google.colab.kernel.invokeFunction('convertToInteractive',\n",
       "                                                     [key], {});\n",
       "          if (!dataTable) return;\n",
       "\n",
       "          const docLinkHtml = 'Like what you see? Visit the ' +\n",
       "            '<a target=\"_blank\" href=https://colab.research.google.com/notebooks/data_table.ipynb>data table notebook</a>'\n",
       "            + ' to learn more about interactive tables.';\n",
       "          element.innerHTML = '';\n",
       "          dataTable['output_type'] = 'display_data';\n",
       "          await google.colab.output.renderOutput(dataTable, element);\n",
       "          const docLink = document.createElement('div');\n",
       "          docLink.innerHTML = docLinkHtml;\n",
       "          element.appendChild(docLink);\n",
       "        }\n",
       "      </script>\n",
       "    </div>\n",
       "  </div>\n",
       "  "
      ],
      "text/plain": [
       "            Close\n",
       "Date             \n",
       "2022-12-06  74.25\n",
       "2022-12-07  72.01\n",
       "2022-12-08  71.46\n",
       "2022-12-09  71.02\n",
       "2022-12-12  73.17"
      ]
     },
     "execution_count": 2,
     "metadata": {},
     "output_type": "execute_result"
    }
   ],
   "source": [
    "df = pd.read_csv(\"Crude-Oil_160101-221213.csv\", index_col = \"Date\", parse_dates = True)\n",
    "df.drop(df.columns[[0,1,2,4,5]], axis=1, inplace=True)\n",
    "df.tail()"
   ]
  },
  {
   "cell_type": "code",
   "execution_count": 3,
   "metadata": {
    "colab": {
     "base_uri": "https://localhost:8080/"
    },
    "id": "shKPAxkmPGlz",
    "outputId": "7427d946-bf26-40b5-a735-34edfe3facc3"
   },
   "outputs": [
    {
     "data": {
      "text/plain": [
       "1749"
      ]
     },
     "execution_count": 3,
     "metadata": {},
     "output_type": "execute_result"
    }
   ],
   "source": [
    "len(df)"
   ]
  },
  {
   "cell_type": "code",
   "execution_count": 4,
   "metadata": {
    "colab": {
     "base_uri": "https://localhost:8080/",
     "height": 351
    },
    "id": "kyxI3oJnWDqw",
    "outputId": "5b52a824-7226-44b5-cca5-ba6a2580b37b"
   },
   "outputs": [
    {
     "data": {
      "text/plain": [
       "<matplotlib.axes._subplots.AxesSubplot at 0x7f376587a0d0>"
      ]
     },
     "execution_count": 4,
     "metadata": {},
     "output_type": "execute_result"
    },
    {
     "data": {
      "image/png": "[encoded data removed]",
      "text/plain": [
       "<Figure size 864x360 with 1 Axes>"
      ]
     },
     "metadata": {
      "needs_background": "light"
     },
     "output_type": "display_data"
    }
   ],
   "source": [
    "#Visualize the close price data\n",
    "df.plot(y = 'Close', figsize = (12,5), title = 'Close Price')"
   ]
  },
  {
   "cell_type": "code",
   "execution_count": 5,
   "metadata": {
    "id": "gDaYN18GWXAp"
   },
   "outputs": [],
   "source": [
    "dataset = df.values\n",
    "sc = MinMaxScaler(feature_range = (0,1))\n",
    "data_scaled = sc.fit_transform(dataset)"
   ]
  },
  {
   "cell_type": "code",
   "execution_count": 6,
   "metadata": {
    "colab": {
     "base_uri": "https://localhost:8080/"
    },
    "id": "_Rq--7i5NzEc",
    "outputId": "9b11c74f-bbab-404e-a64e-8c6401047552"
   },
   "outputs": [
    {
     "data": {
      "text/plain": [
       "1225"
      ]
     },
     "execution_count": 6,
     "metadata": {},
     "output_type": "execute_result"
    }
   ],
   "source": [
    "#Defining train data sizes\n",
    "train_size = int(np.ceil(len(dataset) * 0.7))\n",
    "train = data_scaled[0:int(train_size),:]\n",
    "len(train)"
   ]
  },
  {
   "cell_type": "code",
   "execution_count": 7,
   "metadata": {
    "colab": {
     "base_uri": "https://localhost:8080/"
    },
    "id": "3vs4aogMWhjW",
    "outputId": "eaa8ebca-a894-4590-c41f-cf8004bd3ece"
   },
   "outputs": [
    {
     "data": {
      "text/plain": [
       "array([[0.46110457],\n",
       "       [0.45620777],\n",
       "       [0.44381082],\n",
       "       ...,\n",
       "       [0.49017542],\n",
       "       [0.48812992],\n",
       "       [0.48199343]])"
      ]
     },
     "execution_count": 7,
     "metadata": {},
     "output_type": "execute_result"
    }
   ],
   "source": [
    "train"
   ]
  },
  {
   "cell_type": "code",
   "execution_count": 8,
   "metadata": {
    "colab": {
     "base_uri": "https://localhost:8080/"
    },
    "id": "lFAcmRJyN85x",
    "outputId": "c92ffb12-93bb-42fe-f899-e76a0cf70a67"
   },
   "outputs": [
    {
     "name": "stdout",
     "output_type": "stream",
     "text": [
      "[array([0.46110457, 0.45620777, 0.44381082, 0.43947189, 0.43879006,\n",
      "       0.42794273, 0.42193021, 0.42217814, 0.42664105, 0.41560776,\n",
      "       0.40965722, 0.39781814, 0.41628959, 0.43277754, 0.42131036,\n",
      "       0.42819067, 0.43345937, 0.43916197, 0.44164136, 0.42924441,\n",
      "       0.41845906, 0.4333354 , 0.42986425, 0.42471952, 0.41728135,\n",
      "       0.40643402, 0.40339676, 0.39571066, 0.41573173, 0.41325234,\n",
      "       0.42329387, 0.4239757 , 0.41697143, 0.42837662, 0.43079402,\n",
      "       0.4325296 , 0.43823219, 0.43643464, 0.44244716, 0.44647617,\n",
      "       0.44808777, 0.44752991, 0.45589785, 0.46817083, 0.45949296,\n",
      "       0.47058824, 0.46779892, 0.47188992, 0.46370793, 0.45850121,\n",
      "       0.47164198, 0.48242732, 0.47771648, 0.48062977, 0.49017542,\n",
      "       0.47988595, 0.47784045, 0.47740656, 0.47052625, 0.47077419])]\n",
      "[0.47089815905287297]\n",
      "\n",
      "[array([0.46110457, 0.45620777, 0.44381082, 0.43947189, 0.43879006,\n",
      "       0.42794273, 0.42193021, 0.42217814, 0.42664105, 0.41560776,\n",
      "       0.40965722, 0.39781814, 0.41628959, 0.43277754, 0.42131036,\n",
      "       0.42819067, 0.43345937, 0.43916197, 0.44164136, 0.42924441,\n",
      "       0.41845906, 0.4333354 , 0.42986425, 0.42471952, 0.41728135,\n",
      "       0.40643402, 0.40339676, 0.39571066, 0.41573173, 0.41325234,\n",
      "       0.42329387, 0.4239757 , 0.41697143, 0.42837662, 0.43079402,\n",
      "       0.4325296 , 0.43823219, 0.43643464, 0.44244716, 0.44647617,\n",
      "       0.44808777, 0.44752991, 0.45589785, 0.46817083, 0.45949296,\n",
      "       0.47058824, 0.46779892, 0.47188992, 0.46370793, 0.45850121,\n",
      "       0.47164198, 0.48242732, 0.47771648, 0.48062977, 0.49017542,\n",
      "       0.47988595, 0.47784045, 0.47740656, 0.47052625, 0.47077419]), array([0.45620777, 0.44381082, 0.43947189, 0.43879006, 0.42794273,\n",
      "       0.42193021, 0.42217814, 0.42664105, 0.41560776, 0.40965722,\n",
      "       0.39781814, 0.41628959, 0.43277754, 0.42131036, 0.42819067,\n",
      "       0.43345937, 0.43916197, 0.44164136, 0.42924441, 0.41845906,\n",
      "       0.4333354 , 0.42986425, 0.42471952, 0.41728135, 0.40643402,\n",
      "       0.40339676, 0.39571066, 0.41573173, 0.41325234, 0.42329387,\n",
      "       0.4239757 , 0.41697143, 0.42837662, 0.43079402, 0.4325296 ,\n",
      "       0.43823219, 0.43643464, 0.44244716, 0.44647617, 0.44808777,\n",
      "       0.44752991, 0.45589785, 0.46817083, 0.45949296, 0.47058824,\n",
      "       0.46779892, 0.47188992, 0.46370793, 0.45850121, 0.47164198,\n",
      "       0.48242732, 0.47771648, 0.48062977, 0.49017542, 0.47988595,\n",
      "       0.47784045, 0.47740656, 0.47052625, 0.47077419, 0.47089816])]\n",
      "[0.47089815905287297, 0.4612905225314572]\n",
      "\n"
     ]
    }
   ],
   "source": [
    "#Split the data into x_train & y_train data sets\n",
    "x_train = []\n",
    "y_train = []\n",
    "\n",
    "for i in range (60, len(train)):\n",
    "  x_train.append(train[i - 60:i, 0]) \n",
    "  y_train.append(train[i, 0]) \n",
    "  if i <= 61:\n",
    "    print(x_train)\n",
    "    print(y_train)\n",
    "    print()\n",
    "    #Convert the x_train & y_train to numpy arrays\n",
    "x_train, y_train = np.array(x_train), np.array(y_train)\n",
    "\n",
    "#Reshape the data\n",
    "x_train = np.reshape(x_train, (x_train.shape[0], x_train.shape[1], 1))"
   ]
  },
  {
   "cell_type": "code",
   "execution_count": 9,
   "metadata": {
    "colab": {
     "base_uri": "https://localhost:8080/"
    },
    "id": "ON8HO-dKOUAn",
    "outputId": "750fdc50-e134-4481-c871-65c0664ebcc8"
   },
   "outputs": [
    {
     "name": "stdout",
     "output_type": "stream",
     "text": [
      "Epoch 1/100\n",
      "39/39 [==============================] - 8s 101ms/step - loss: 0.0309\n",
      "Epoch 2/100\n",
      "39/39 [==============================] - 4s 100ms/step - loss: 0.0067\n",
      "Epoch 3/100\n",
      "39/39 [==============================] - 5s 117ms/step - loss: 0.0065\n",
      "Epoch 4/100\n",
      "39/39 [==============================] - 6s 144ms/step - loss: 0.0061\n",
      "Epoch 5/100\n",
      "39/39 [==============================] - 4s 106ms/step - loss: 0.0055\n",
      "Epoch 6/100\n",
      "39/39 [==============================] - 5s 116ms/step - loss: 0.0053\n",
      "Epoch 7/100\n",
      "39/39 [==============================] - 5s 132ms/step - loss: 0.0057\n",
      "Epoch 8/100\n",
      "39/39 [==============================] - 5s 116ms/step - loss: 0.0053\n",
      "Epoch 9/100\n",
      "39/39 [==============================] - 4s 101ms/step - loss: 0.0053\n",
      "Epoch 10/100\n",
      "39/39 [==============================] - 5s 142ms/step - loss: 0.0052\n",
      "Epoch 11/100\n",
      "39/39 [==============================] - 4s 100ms/step - loss: 0.0047\n",
      "Epoch 12/100\n",
      "39/39 [==============================] - 4s 101ms/step - loss: 0.0047\n",
      "Epoch 13/100\n",
      "39/39 [==============================] - 4s 101ms/step - loss: 0.0044\n",
      "Epoch 14/100\n",
      "39/39 [==============================] - 4s 100ms/step - loss: 0.0052\n",
      "Epoch 15/100\n",
      "39/39 [==============================] - 4s 101ms/step - loss: 0.0040\n",
      "Epoch 16/100\n",
      "39/39 [==============================] - 4s 101ms/step - loss: 0.0042\n",
      "Epoch 17/100\n",
      "39/39 [==============================] - 4s 101ms/step - loss: 0.0040\n",
      "Epoch 18/100\n",
      "39/39 [==============================] - 4s 102ms/step - loss: 0.0038\n",
      "Epoch 19/100\n",
      "39/39 [==============================] - 4s 103ms/step - loss: 0.0034\n",
      "Epoch 20/100\n",
      "39/39 [==============================] - 4s 101ms/step - loss: 0.0034\n",
      "Epoch 21/100\n",
      "39/39 [==============================] - 4s 100ms/step - loss: 0.0032\n",
      "Epoch 22/100\n",
      "39/39 [==============================] - 4s 101ms/step - loss: 0.0035\n",
      "Epoch 23/100\n",
      "39/39 [==============================] - 4s 102ms/step - loss: 0.0031\n",
      "Epoch 24/100\n",
      "39/39 [==============================] - 4s 102ms/step - loss: 0.0031\n",
      "Epoch 25/100\n",
      "39/39 [==============================] - 4s 101ms/step - loss: 0.0031\n",
      "Epoch 26/100\n",
      "39/39 [==============================] - 4s 102ms/step - loss: 0.0029\n",
      "Epoch 27/100\n",
      "39/39 [==============================] - 4s 102ms/step - loss: 0.0030\n",
      "Epoch 28/100\n",
      "39/39 [==============================] - 4s 102ms/step - loss: 0.0026\n",
      "Epoch 29/100\n",
      "39/39 [==============================] - 4s 100ms/step - loss: 0.0025\n",
      "Epoch 30/100\n",
      "39/39 [==============================] - 4s 100ms/step - loss: 0.0025\n",
      "Epoch 31/100\n",
      "39/39 [==============================] - 4s 101ms/step - loss: 0.0024\n",
      "Epoch 32/100\n",
      "39/39 [==============================] - 4s 102ms/step - loss: 0.0022\n",
      "Epoch 33/100\n",
      "39/39 [==============================] - 4s 101ms/step - loss: 0.0022\n",
      "Epoch 34/100\n",
      "39/39 [==============================] - 4s 103ms/step - loss: 0.0022\n",
      "Epoch 35/100\n",
      "39/39 [==============================] - 5s 131ms/step - loss: 0.0021\n",
      "Epoch 36/100\n",
      "39/39 [==============================] - 4s 101ms/step - loss: 0.0021\n",
      "Epoch 37/100\n",
      "39/39 [==============================] - 4s 99ms/step - loss: 0.0020\n",
      "Epoch 38/100\n",
      "39/39 [==============================] - 4s 100ms/step - loss: 0.0018\n",
      "Epoch 39/100\n",
      "39/39 [==============================] - 4s 101ms/step - loss: 0.0018\n",
      "Epoch 40/100\n",
      "39/39 [==============================] - 4s 101ms/step - loss: 0.0016\n",
      "Epoch 41/100\n",
      "39/39 [==============================] - 5s 130ms/step - loss: 0.0017\n",
      "Epoch 42/100\n",
      "39/39 [==============================] - 4s 102ms/step - loss: 0.0015\n",
      "Epoch 43/100\n",
      "39/39 [==============================] - 4s 101ms/step - loss: 0.0014\n",
      "Epoch 44/100\n",
      "39/39 [==============================] - 4s 101ms/step - loss: 0.0014\n",
      "Epoch 45/100\n",
      "39/39 [==============================] - 4s 100ms/step - loss: 0.0013\n",
      "Epoch 46/100\n",
      "39/39 [==============================] - 4s 102ms/step - loss: 0.0014\n",
      "Epoch 47/100\n",
      "39/39 [==============================] - 4s 101ms/step - loss: 0.0013\n",
      "Epoch 48/100\n",
      "39/39 [==============================] - 4s 101ms/step - loss: 0.0013\n",
      "Epoch 49/100\n",
      "39/39 [==============================] - 4s 102ms/step - loss: 0.0011\n",
      "Epoch 50/100\n",
      "39/39 [==============================] - 4s 101ms/step - loss: 0.0011\n",
      "Epoch 51/100\n",
      "39/39 [==============================] - 4s 101ms/step - loss: 0.0010\n",
      "Epoch 52/100\n",
      "39/39 [==============================] - 4s 100ms/step - loss: 0.0010\n",
      "Epoch 53/100\n",
      "39/39 [==============================] - 4s 101ms/step - loss: 9.0894e-04\n",
      "Epoch 54/100\n",
      "39/39 [==============================] - 4s 102ms/step - loss: 8.9117e-04\n",
      "Epoch 55/100\n",
      "39/39 [==============================] - 4s 101ms/step - loss: 8.7115e-04\n",
      "Epoch 56/100\n",
      "39/39 [==============================] - 4s 101ms/step - loss: 8.3459e-04\n",
      "Epoch 57/100\n",
      "39/39 [==============================] - 4s 102ms/step - loss: 8.2831e-04\n",
      "Epoch 58/100\n",
      "39/39 [==============================] - 4s 101ms/step - loss: 7.5370e-04\n",
      "Epoch 59/100\n",
      "39/39 [==============================] - 4s 102ms/step - loss: 7.8838e-04\n",
      "Epoch 60/100\n",
      "39/39 [==============================] - 4s 101ms/step - loss: 7.2207e-04\n",
      "Epoch 61/100\n",
      "39/39 [==============================] - 4s 101ms/step - loss: 7.7071e-04\n",
      "Epoch 62/100\n",
      "39/39 [==============================] - 4s 102ms/step - loss: 6.6014e-04\n",
      "Epoch 63/100\n",
      "39/39 [==============================] - 4s 101ms/step - loss: 6.5984e-04\n",
      "Epoch 64/100\n",
      "39/39 [==============================] - 4s 101ms/step - loss: 6.3423e-04\n",
      "Epoch 65/100\n",
      "39/39 [==============================] - 4s 101ms/step - loss: 6.2912e-04\n",
      "Epoch 66/100\n",
      "39/39 [==============================] - 4s 101ms/step - loss: 5.6267e-04\n",
      "Epoch 67/100\n",
      "39/39 [==============================] - 4s 101ms/step - loss: 5.6252e-04\n",
      "Epoch 68/100\n",
      "39/39 [==============================] - 4s 100ms/step - loss: 5.8731e-04\n",
      "Epoch 69/100\n",
      "39/39 [==============================] - 4s 101ms/step - loss: 5.8093e-04\n",
      "Epoch 70/100\n",
      "39/39 [==============================] - 4s 101ms/step - loss: 5.4131e-04\n",
      "Epoch 71/100\n",
      "39/39 [==============================] - 4s 101ms/step - loss: 5.0178e-04\n",
      "Epoch 72/100\n",
      "39/39 [==============================] - 4s 102ms/step - loss: 5.3165e-04\n",
      "Epoch 73/100\n",
      "39/39 [==============================] - 4s 101ms/step - loss: 4.8870e-04\n",
      "Epoch 74/100\n",
      "39/39 [==============================] - 4s 100ms/step - loss: 4.9674e-04\n",
      "Epoch 75/100\n",
      "39/39 [==============================] - 4s 101ms/step - loss: 4.4484e-04\n",
      "Epoch 76/100\n",
      "39/39 [==============================] - 4s 101ms/step - loss: 4.3402e-04\n",
      "Epoch 77/100\n",
      "39/39 [==============================] - 4s 102ms/step - loss: 4.1217e-04\n",
      "Epoch 78/100\n",
      "39/39 [==============================] - 4s 101ms/step - loss: 4.6181e-04\n",
      "Epoch 79/100\n",
      "39/39 [==============================] - 4s 102ms/step - loss: 4.6206e-04\n",
      "Epoch 80/100\n",
      "39/39 [==============================] - 4s 102ms/step - loss: 4.1313e-04\n",
      "Epoch 81/100\n",
      "39/39 [==============================] - 5s 129ms/step - loss: 4.0821e-04\n",
      "Epoch 82/100\n",
      "39/39 [==============================] - 4s 101ms/step - loss: 4.0615e-04\n",
      "Epoch 83/100\n",
      "39/39 [==============================] - 4s 102ms/step - loss: 4.1359e-04\n",
      "Epoch 84/100\n",
      "39/39 [==============================] - 4s 101ms/step - loss: 3.9501e-04\n",
      "Epoch 85/100\n",
      "39/39 [==============================] - 4s 101ms/step - loss: 3.8033e-04\n",
      "Epoch 86/100\n",
      "39/39 [==============================] - 4s 102ms/step - loss: 3.6842e-04\n",
      "Epoch 87/100\n",
      "39/39 [==============================] - 4s 101ms/step - loss: 3.6243e-04\n",
      "Epoch 88/100\n",
      "39/39 [==============================] - 4s 101ms/step - loss: 3.8404e-04\n",
      "Epoch 89/100\n",
      "39/39 [==============================] - 4s 101ms/step - loss: 3.7646e-04\n",
      "Epoch 90/100\n",
      "39/39 [==============================] - 4s 101ms/step - loss: 3.6950e-04\n",
      "Epoch 91/100\n",
      "39/39 [==============================] - 4s 101ms/step - loss: 3.4855e-04\n",
      "Epoch 92/100\n",
      "39/39 [==============================] - 4s 102ms/step - loss: 3.3980e-04\n",
      "Epoch 93/100\n",
      "39/39 [==============================] - 4s 102ms/step - loss: 4.1833e-04\n",
      "Epoch 94/100\n",
      "39/39 [==============================] - 4s 101ms/step - loss: 3.9456e-04\n",
      "Epoch 95/100\n",
      "39/39 [==============================] - 4s 101ms/step - loss: 3.4842e-04\n",
      "Epoch 96/100\n",
      "39/39 [==============================] - 4s 100ms/step - loss: 3.7538e-04\n",
      "Epoch 97/100\n",
      "39/39 [==============================] - 4s 101ms/step - loss: 3.7139e-04\n",
      "Epoch 98/100\n",
      "39/39 [==============================] - 4s 102ms/step - loss: 3.7370e-04\n",
      "Epoch 99/100\n",
      "39/39 [==============================] - 4s 102ms/step - loss: 3.1300e-04\n",
      "Epoch 100/100\n",
      "39/39 [==============================] - 4s 102ms/step - loss: 3.8828e-04\n"
     ]
    },
    {
     "data": {
      "text/plain": [
       "<keras.callbacks.History at 0x7f3760aa5610>"
      ]
     },
     "execution_count": 9,
     "metadata": {},
     "output_type": "execute_result"
    }
   ],
   "source": [
    "model = Sequential()\n",
    "model.add(LSTM(128, return_sequences = True, input_shape = (x_train.shape[1], 1)))\n",
    "model.add(LSTM(64, return_sequences = False))\n",
    "model.add(Dropout(0.5))\n",
    "model.add(Dense(1))\n",
    "\n",
    "#Compile the model\n",
    "model.compile(loss='mean_squared_error', optimizer='adam')\n",
    "#Train the model\n",
    "model.fit(x_train, y_train, batch_size = 30, epochs = 100)"
   ]
  },
  {
   "cell_type": "code",
   "execution_count": 10,
   "metadata": {
    "colab": {
     "base_uri": "https://localhost:8080/"
    },
    "id": "mpYk6LSnWwds",
    "outputId": "47bcf0b7-db92-4910-a3a4-66f7e92639f5"
   },
   "outputs": [
    {
     "name": "stdout",
     "output_type": "stream",
     "text": [
      "17/17 [==============================] - 1s 35ms/step\n"
     ]
    }
   ],
   "source": [
    "test = data_scaled[train_size - 60: , :]\n",
    "#Create a data x_test & y_test\n",
    "x_test = []\n",
    "y_test = dataset[train_size: , :]\n",
    "for i in range(60, len(test)):\n",
    "  x_test.append(test[i - 60:i, 0])\n",
    "\n",
    "#Convert the data to a numpy array\n",
    "x_test = np.array(x_test)\n",
    "\n",
    "#Reshape data\n",
    "x_test = np.reshape(x_test, (x_test.shape[0], x_test.shape[1], 1))\n",
    "\n",
    "#Get the models predicted price values\n",
    "predictions = model.predict(x_test)\n",
    "predictions = sc.inverse_transform(predictions)"
   ]
  },
  {
   "cell_type": "code",
   "execution_count": 11,
   "metadata": {
    "colab": {
     "base_uri": "https://localhost:8080/"
    },
    "id": "J_bigjlEO2ao",
    "outputId": "e5de09ac-9d7e-403f-c636-708c5e488bf3"
   },
   "outputs": [
    {
     "name": "stdout",
     "output_type": "stream",
     "text": [
      "RMSE:  3.5140229797181903\n",
      "MAPE:  3.0188476138428584\n"
     ]
    }
   ],
   "source": [
    "#RMSE\n",
    "rmse = np.sqrt(np.mean(((predictions - y_test) ** 2)))\n",
    "print(\"RMSE: \", rmse)\n",
    "#MAPE\n",
    "mape = np.mean(np.abs((y_test - predictions) / y_test)) * 100\n",
    "print(\"MAPE: \", mape)"
   ]
  },
  {
   "cell_type": "code",
   "execution_count": 12,
   "metadata": {
    "colab": {
     "base_uri": "https://localhost:8080/",
     "height": 350
    },
    "id": "XgPQcbrkbwkW",
    "outputId": "8c817cff-74bf-41cf-d1e3-bf7fd29d38f1"
   },
   "outputs": [
    {
     "data": {
      "image/png": "[encoded data removed]",
      "text/plain": [
       "<Figure size 864x360 with 1 Axes>"
      ]
     },
     "metadata": {
      "needs_background": "light"
     },
     "output_type": "display_data"
    }
   ],
   "source": [
    "pd.options.mode.chained_assignment = None \n",
    "#Plot the data\n",
    "train_ = df[:train_size]\n",
    "test_ =  df[train_size:]\n",
    "test_['Predictions'] = predictions\n",
    "#Visualisze the data\n",
    "plt.figure(figsize = (12,5))\n",
    "plt.title(\"Crude oil forecast LSTM Model\")\n",
    "plt.xlabel(\"Date\")\n",
    "plt.ylabel(\"Close\")\n",
    "plt.plot(train_['Close'])\n",
    "plt.plot(test_[['Close', 'Predictions']])\n",
    "plt.legend(['Train', 'Test', 'LSTM Predictions'], loc = 'upper left')\n",
    "plt.show()"
   ]
  },
  {
   "cell_type": "code",
   "execution_count": null,
   "metadata": {
    "id": "Z10sfsotRppx"
   },
   "outputs": [],
   "source": []
  }
 ],
 "metadata": {
  "colab": {
   "provenance": []
  },
  "kernelspec": {
   "display_name": "Python 3 (ipykernel)",
   "language": "python",
   "name": "python3"
  },
  "language_info": {
   "codemirror_mode": {
    "name": "ipython",
    "version": 3
   },
   "file_extension": ".py",
   "mimetype": "text/x-python",
   "name": "python",
   "nbconvert_exporter": "python",
   "pygments_lexer": "ipython3",
   "version": "3.9.12"
  }
 },
 "nbformat": 4,
 "nbformat_minor": 1
}
