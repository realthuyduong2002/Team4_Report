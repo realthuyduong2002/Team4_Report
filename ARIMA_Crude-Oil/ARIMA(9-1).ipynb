{
 "cells": [
  {
   "cell_type": "code",
   "execution_count": 1,
   "id": "d326b97c",
   "metadata": {},
   "outputs": [],
   "source": [
    "import pandas as pd\n",
    "import numpy as np\n",
    "import matplotlib.pyplot as plt\n",
    "from statsmodels.tsa.arima_model import ARIMA\n",
    "import statsmodels.api as sm\n",
    "from pmdarima import auto_arima\n",
    "from statsmodels.tsa.seasonal import seasonal_decompose\n",
    "from statsmodels.tsa.stattools import adfuller\n",
    "from math import sqrt"
   ]
  },
  {
   "cell_type": "code",
   "execution_count": 2,
   "id": "18503ef6",
   "metadata": {},
   "outputs": [
    {
     "data": {
      "text/html": [
       "<div>\n",
       "<style scoped>\n",
       "    .dataframe tbody tr th:only-of-type {\n",
       "        vertical-align: middle;\n",
       "    }\n",
       "\n",
       "    .dataframe tbody tr th {\n",
       "        vertical-align: top;\n",
       "    }\n",
       "\n",
       "    .dataframe thead th {\n",
       "        text-align: right;\n",
       "    }\n",
       "</style>\n",
       "<table border=\"1\" class=\"dataframe\">\n",
       "  <thead>\n",
       "    <tr style=\"text-align: right;\">\n",
       "      <th></th>\n",
       "      <th>Close</th>\n",
       "    </tr>\n",
       "    <tr>\n",
       "      <th>Date</th>\n",
       "      <th></th>\n",
       "    </tr>\n",
       "  </thead>\n",
       "  <tbody>\n",
       "    <tr>\n",
       "      <th>2016-01-04</th>\n",
       "      <td>36.76</td>\n",
       "    </tr>\n",
       "    <tr>\n",
       "      <th>2016-01-05</th>\n",
       "      <td>35.97</td>\n",
       "    </tr>\n",
       "    <tr>\n",
       "      <th>2016-01-06</th>\n",
       "      <td>33.97</td>\n",
       "    </tr>\n",
       "    <tr>\n",
       "      <th>2016-01-07</th>\n",
       "      <td>33.27</td>\n",
       "    </tr>\n",
       "    <tr>\n",
       "      <th>2016-01-08</th>\n",
       "      <td>33.16</td>\n",
       "    </tr>\n",
       "    <tr>\n",
       "      <th>...</th>\n",
       "      <td>...</td>\n",
       "    </tr>\n",
       "    <tr>\n",
       "      <th>2022-12-06</th>\n",
       "      <td>74.25</td>\n",
       "    </tr>\n",
       "    <tr>\n",
       "      <th>2022-12-07</th>\n",
       "      <td>72.01</td>\n",
       "    </tr>\n",
       "    <tr>\n",
       "      <th>2022-12-08</th>\n",
       "      <td>71.46</td>\n",
       "    </tr>\n",
       "    <tr>\n",
       "      <th>2022-12-09</th>\n",
       "      <td>71.02</td>\n",
       "    </tr>\n",
       "    <tr>\n",
       "      <th>2022-12-12</th>\n",
       "      <td>73.17</td>\n",
       "    </tr>\n",
       "  </tbody>\n",
       "</table>\n",
       "<p>1749 rows × 1 columns</p>\n",
       "</div>"
      ],
      "text/plain": [
       "            Close\n",
       "Date             \n",
       "2016-01-04  36.76\n",
       "2016-01-05  35.97\n",
       "2016-01-06  33.97\n",
       "2016-01-07  33.27\n",
       "2016-01-08  33.16\n",
       "...           ...\n",
       "2022-12-06  74.25\n",
       "2022-12-07  72.01\n",
       "2022-12-08  71.46\n",
       "2022-12-09  71.02\n",
       "2022-12-12  73.17\n",
       "\n",
       "[1749 rows x 1 columns]"
      ]
     },
     "execution_count": 2,
     "metadata": {},
     "output_type": "execute_result"
    }
   ],
   "source": [
    "df = pd.read_csv(\"D:/Excel/Crude-Oil_160101-221213.csv\", index_col = \"Date\", parse_dates = True)\n",
    "df.drop(df.columns[[0,1,2,4,5]], axis=1, inplace=True)\n",
    "df"
   ]
  },
  {
   "cell_type": "code",
   "execution_count": 3,
   "id": "dda2da47",
   "metadata": {},
   "outputs": [
    {
     "data": {
      "text/plain": [
       "<AxesSubplot:xlabel='Date'>"
      ]
     },
     "execution_count": 3,
     "metadata": {},
     "output_type": "execute_result"
    },
    {
     "data": {
      "image/png": "[encoded data removed]",
      "text/plain": [
       "<Figure size 864x360 with 1 Axes>"
      ]
     },
     "metadata": {
      "needs_background": "light"
     },
     "output_type": "display_data"
    }
   ],
   "source": [
    "df.plot(y = 'Close', figsize = (12,5))"
   ]
  },
  {
   "cell_type": "code",
   "execution_count": 4,
   "id": "5363508a",
   "metadata": {},
   "outputs": [
    {
     "name": "stdout",
     "output_type": "stream",
     "text": [
      "1. ADF Statistic: -1.9578315343434511\n",
      "2. p-value :  0.3053628860646654\n",
      "3. Lags :  3\n",
      "4. Critical values : 1745\n",
      "\t 1%   -3.434102977404239\n",
      "\t 5%   -2.8631977303784235\n",
      "\t 10%   -2.5676525270728483\n"
     ]
    }
   ],
   "source": [
    "def ad_test(dataset):\n",
    "    result = adfuller(dataset, autolag = 'AIC')\n",
    "    print(\"1. ADF Statistic:\" , result[0])\n",
    "    print(\"2. p-value : \", result[1])\n",
    "    print(\"3. Lags : \", result[2])\n",
    "    print(\"4. Critical values :\" , result[3])\n",
    "    for key, val in result[4].items():\n",
    "        print(\"\\t\", key ,\" \", val)\n",
    "ad_test(df['Close'])"
   ]
  },
  {
   "cell_type": "code",
   "execution_count": 5,
   "id": "dee7104a",
   "metadata": {},
   "outputs": [
    {
     "name": "stdout",
     "output_type": "stream",
     "text": [
      "Performing stepwise search to minimize aic\n",
      " ARIMA(2,1,2)(0,0,0)[0] intercept   : AIC=7901.505, Time=1.02 sec\n",
      " ARIMA(0,1,0)(0,0,0)[0] intercept   : AIC=8023.213, Time=0.06 sec\n",
      " ARIMA(1,1,0)(0,0,0)[0] intercept   : AIC=7920.704, Time=0.14 sec\n",
      " ARIMA(0,1,1)(0,0,0)[0] intercept   : AIC=7901.420, Time=0.12 sec\n",
      " ARIMA(0,1,0)(0,0,0)[0]             : AIC=8021.345, Time=0.03 sec\n",
      " ARIMA(1,1,1)(0,0,0)[0] intercept   : AIC=7898.028, Time=0.30 sec\n",
      " ARIMA(2,1,1)(0,0,0)[0] intercept   : AIC=7899.545, Time=0.36 sec\n",
      " ARIMA(1,1,2)(0,0,0)[0] intercept   : AIC=7899.537, Time=0.51 sec\n",
      " ARIMA(0,1,2)(0,0,0)[0] intercept   : AIC=7898.800, Time=0.25 sec\n",
      " ARIMA(2,1,0)(0,0,0)[0] intercept   : AIC=7905.640, Time=0.20 sec\n",
      " ARIMA(1,1,1)(0,0,0)[0]             : AIC=7896.357, Time=0.11 sec\n",
      " ARIMA(0,1,1)(0,0,0)[0]             : AIC=7899.696, Time=0.05 sec\n",
      " ARIMA(1,1,0)(0,0,0)[0]             : AIC=7918.917, Time=0.05 sec\n",
      " ARIMA(2,1,1)(0,0,0)[0]             : AIC=7897.893, Time=0.36 sec\n",
      " ARIMA(1,1,2)(0,0,0)[0]             : AIC=7897.889, Time=0.31 sec\n",
      " ARIMA(0,1,2)(0,0,0)[0]             : AIC=7897.113, Time=0.16 sec\n",
      " ARIMA(2,1,0)(0,0,0)[0]             : AIC=7903.900, Time=0.11 sec\n",
      " ARIMA(2,1,2)(0,0,0)[0]             : AIC=7899.846, Time=1.00 sec\n",
      "\n",
      "Best model:  ARIMA(1,1,1)(0,0,0)[0]          \n",
      "Total fit time: 5.150 seconds\n"
     ]
    },
    {
     "data": {
      "text/html": [
       "<table class=\"simpletable\">\n",
       "<caption>SARIMAX Results</caption>\n",
       "<tr>\n",
       "  <th>Dep. Variable:</th>           <td>y</td>        <th>  No. Observations:  </th>   <td>1749</td>   \n",
       "</tr>\n",
       "<tr>\n",
       "  <th>Model:</th>           <td>SARIMAX(1, 1, 1)</td> <th>  Log Likelihood     </th> <td>-3945.178</td>\n",
       "</tr>\n",
       "<tr>\n",
       "  <th>Date:</th>            <td>Mon, 02 Jan 2023</td> <th>  AIC                </th> <td>7896.357</td> \n",
       "</tr>\n",
       "<tr>\n",
       "  <th>Time:</th>                <td>15:30:26</td>     <th>  BIC                </th> <td>7912.756</td> \n",
       "</tr>\n",
       "<tr>\n",
       "  <th>Sample:</th>                  <td>0</td>        <th>  HQIC               </th> <td>7902.419</td> \n",
       "</tr>\n",
       "<tr>\n",
       "  <th></th>                      <td> - 1749</td>     <th>                     </th>     <td> </td>    \n",
       "</tr>\n",
       "<tr>\n",
       "  <th>Covariance Type:</th>        <td>opg</td>       <th>                     </th>     <td> </td>    \n",
       "</tr>\n",
       "</table>\n",
       "<table class=\"simpletable\">\n",
       "<tr>\n",
       "     <td></td>       <th>coef</th>     <th>std err</th>      <th>z</th>      <th>P>|z|</th>  <th>[0.025</th>    <th>0.975]</th>  \n",
       "</tr>\n",
       "<tr>\n",
       "  <th>ar.L1</th>  <td>    0.2003</td> <td>    0.030</td> <td>    6.767</td> <td> 0.000</td> <td>    0.142</td> <td>    0.258</td>\n",
       "</tr>\n",
       "<tr>\n",
       "  <th>ma.L1</th>  <td>   -0.4715</td> <td>    0.029</td> <td>  -16.233</td> <td> 0.000</td> <td>   -0.528</td> <td>   -0.415</td>\n",
       "</tr>\n",
       "<tr>\n",
       "  <th>sigma2</th> <td>    5.3441</td> <td>    0.018</td> <td>  302.269</td> <td> 0.000</td> <td>    5.309</td> <td>    5.379</td>\n",
       "</tr>\n",
       "</table>\n",
       "<table class=\"simpletable\">\n",
       "<tr>\n",
       "  <th>Ljung-Box (L1) (Q):</th>     <td>0.01</td> <th>  Jarque-Bera (JB):  </th> <td>3718382.44</td>\n",
       "</tr>\n",
       "<tr>\n",
       "  <th>Prob(Q):</th>                <td>0.94</td> <th>  Prob(JB):          </th>    <td>0.00</td>   \n",
       "</tr>\n",
       "<tr>\n",
       "  <th>Heteroskedasticity (H):</th> <td>5.14</td> <th>  Skew:              </th>    <td>-7.02</td>  \n",
       "</tr>\n",
       "<tr>\n",
       "  <th>Prob(H) (two-sided):</th>    <td>0.00</td> <th>  Kurtosis:          </th>   <td>228.51</td>  \n",
       "</tr>\n",
       "</table><br/><br/>Warnings:<br/>[1] Covariance matrix calculated using the outer product of gradients (complex-step)."
      ],
      "text/plain": [
       "<class 'statsmodels.iolib.summary.Summary'>\n",
       "\"\"\"\n",
       "                               SARIMAX Results                                \n",
       "==============================================================================\n",
       "Dep. Variable:                      y   No. Observations:                 1749\n",
       "Model:               SARIMAX(1, 1, 1)   Log Likelihood               -3945.178\n",
       "Date:                Mon, 02 Jan 2023   AIC                           7896.357\n",
       "Time:                        15:30:26   BIC                           7912.756\n",
       "Sample:                             0   HQIC                          7902.419\n",
       "                               - 1749                                         \n",
       "Covariance Type:                  opg                                         \n",
       "==============================================================================\n",
       "                 coef    std err          z      P>|z|      [0.025      0.975]\n",
       "------------------------------------------------------------------------------\n",
       "ar.L1          0.2003      0.030      6.767      0.000       0.142       0.258\n",
       "ma.L1         -0.4715      0.029    -16.233      0.000      -0.528      -0.415\n",
       "sigma2         5.3441      0.018    302.269      0.000       5.309       5.379\n",
       "===================================================================================\n",
       "Ljung-Box (L1) (Q):                   0.01   Jarque-Bera (JB):           3718382.44\n",
       "Prob(Q):                              0.94   Prob(JB):                         0.00\n",
       "Heteroskedasticity (H):               5.14   Skew:                            -7.02\n",
       "Prob(H) (two-sided):                  0.00   Kurtosis:                       228.51\n",
       "===================================================================================\n",
       "\n",
       "Warnings:\n",
       "[1] Covariance matrix calculated using the outer product of gradients (complex-step).\n",
       "\"\"\""
      ]
     },
     "execution_count": 5,
     "metadata": {},
     "output_type": "execute_result"
    }
   ],
   "source": [
    "stepwise_fit = auto_arima(df['Close'], trace = True, suppress_warnings = True)\n",
    "stepwise_fit.summary()"
   ]
  },
  {
   "cell_type": "code",
   "execution_count": 6,
   "id": "14688c71",
   "metadata": {},
   "outputs": [],
   "source": [
    "def split_data(data, test_split):\n",
    "    length = len(data)\n",
    "    size = round(length * (1 - test_split))\n",
    "    train, test = data[:size], data[size:]\n",
    "    print('train:', len(train))\n",
    "    print('test:', len(test))\n",
    "    return train, test"
   ]
  },
  {
   "cell_type": "code",
   "execution_count": 7,
   "id": "7354c9f8",
   "metadata": {},
   "outputs": [
    {
     "name": "stdout",
     "output_type": "stream",
     "text": [
      "train: 1574\n",
      "test: 175\n"
     ]
    }
   ],
   "source": [
    "test_split = 0.1\n",
    "train, test = split_data(df, test_split)"
   ]
  },
  {
   "cell_type": "code",
   "execution_count": 8,
   "id": "f2cae3a5",
   "metadata": {},
   "outputs": [],
   "source": [
    "import warnings\n",
    "warnings.filterwarnings(\"ignore\")"
   ]
  },
  {
   "cell_type": "code",
   "execution_count": 9,
   "id": "ae95c830",
   "metadata": {},
   "outputs": [
    {
     "data": {
      "text/html": [
       "<table class=\"simpletable\">\n",
       "<caption>SARIMAX Results</caption>\n",
       "<tr>\n",
       "  <th>Dep. Variable:</th>         <td>Close</td>      <th>  No. Observations:  </th>   <td>1574</td>   \n",
       "</tr>\n",
       "<tr>\n",
       "  <th>Model:</th>            <td>ARIMA(1, 1, 1)</td>  <th>  Log Likelihood     </th> <td>-3505.660</td>\n",
       "</tr>\n",
       "<tr>\n",
       "  <th>Date:</th>            <td>Mon, 02 Jan 2023</td> <th>  AIC                </th> <td>7017.321</td> \n",
       "</tr>\n",
       "<tr>\n",
       "  <th>Time:</th>                <td>15:31:10</td>     <th>  BIC                </th> <td>7033.403</td> \n",
       "</tr>\n",
       "<tr>\n",
       "  <th>Sample:</th>                  <td>0</td>        <th>  HQIC               </th> <td>7023.298</td> \n",
       "</tr>\n",
       "<tr>\n",
       "  <th></th>                      <td> - 1574</td>     <th>                     </th>     <td> </td>    \n",
       "</tr>\n",
       "<tr>\n",
       "  <th>Covariance Type:</th>        <td>opg</td>       <th>                     </th>     <td> </td>    \n",
       "</tr>\n",
       "</table>\n",
       "<table class=\"simpletable\">\n",
       "<tr>\n",
       "     <td></td>       <th>coef</th>     <th>std err</th>      <th>z</th>      <th>P>|z|</th>  <th>[0.025</th>    <th>0.975]</th>  \n",
       "</tr>\n",
       "<tr>\n",
       "  <th>ar.L1</th>  <td>    0.1000</td> <td>    0.022</td> <td>    4.519</td> <td> 0.000</td> <td>    0.057</td> <td>    0.143</td>\n",
       "</tr>\n",
       "<tr>\n",
       "  <th>ma.L1</th>  <td>   -0.4137</td> <td>    0.022</td> <td>  -18.880</td> <td> 0.000</td> <td>   -0.457</td> <td>   -0.371</td>\n",
       "</tr>\n",
       "<tr>\n",
       "  <th>sigma2</th> <td>    5.0498</td> <td>    0.016</td> <td>  322.533</td> <td> 0.000</td> <td>    5.019</td> <td>    5.080</td>\n",
       "</tr>\n",
       "</table>\n",
       "<table class=\"simpletable\">\n",
       "<tr>\n",
       "  <th>Ljung-Box (L1) (Q):</th>     <td>0.00</td>  <th>  Jarque-Bera (JB):  </th> <td>4995939.65</td>\n",
       "</tr>\n",
       "<tr>\n",
       "  <th>Prob(Q):</th>                <td>0.96</td>  <th>  Prob(JB):          </th>    <td>0.00</td>   \n",
       "</tr>\n",
       "<tr>\n",
       "  <th>Heteroskedasticity (H):</th> <td>11.54</td> <th>  Skew:              </th>    <td>-8.77</td>  \n",
       "</tr>\n",
       "<tr>\n",
       "  <th>Prob(H) (two-sided):</th>    <td>0.00</td>  <th>  Kurtosis:          </th>   <td>278.53</td>  \n",
       "</tr>\n",
       "</table><br/><br/>Warnings:<br/>[1] Covariance matrix calculated using the outer product of gradients (complex-step)."
      ],
      "text/plain": [
       "<class 'statsmodels.iolib.summary.Summary'>\n",
       "\"\"\"\n",
       "                               SARIMAX Results                                \n",
       "==============================================================================\n",
       "Dep. Variable:                  Close   No. Observations:                 1574\n",
       "Model:                 ARIMA(1, 1, 1)   Log Likelihood               -3505.660\n",
       "Date:                Mon, 02 Jan 2023   AIC                           7017.321\n",
       "Time:                        15:31:10   BIC                           7033.403\n",
       "Sample:                             0   HQIC                          7023.298\n",
       "                               - 1574                                         \n",
       "Covariance Type:                  opg                                         \n",
       "==============================================================================\n",
       "                 coef    std err          z      P>|z|      [0.025      0.975]\n",
       "------------------------------------------------------------------------------\n",
       "ar.L1          0.1000      0.022      4.519      0.000       0.057       0.143\n",
       "ma.L1         -0.4137      0.022    -18.880      0.000      -0.457      -0.371\n",
       "sigma2         5.0498      0.016    322.533      0.000       5.019       5.080\n",
       "===================================================================================\n",
       "Ljung-Box (L1) (Q):                   0.00   Jarque-Bera (JB):           4995939.65\n",
       "Prob(Q):                              0.96   Prob(JB):                         0.00\n",
       "Heteroskedasticity (H):              11.54   Skew:                            -8.77\n",
       "Prob(H) (two-sided):                  0.00   Kurtosis:                       278.53\n",
       "===================================================================================\n",
       "\n",
       "Warnings:\n",
       "[1] Covariance matrix calculated using the outer product of gradients (complex-step).\n",
       "\"\"\""
      ]
     },
     "execution_count": 9,
     "metadata": {},
     "output_type": "execute_result"
    }
   ],
   "source": [
    "model = sm.tsa.arima.ARIMA(train['Close'], order = (1,1,1))\n",
    "model = model.fit()\n",
    "model.summary()"
   ]
  },
  {
   "cell_type": "code",
   "execution_count": 10,
   "id": "b7e0a612",
   "metadata": {},
   "outputs": [
    {
     "name": "stdout",
     "output_type": "stream",
     "text": [
      "1574    102.522507\n",
      "1575    102.446733\n",
      "1576    102.439153\n",
      "1577    102.438395\n",
      "1578    102.438319\n",
      "           ...    \n",
      "1744    102.438310\n",
      "1745    102.438310\n",
      "1746    102.438310\n",
      "1747    102.438310\n",
      "1748    102.438310\n",
      "Name: predicted_mean, Length: 175, dtype: float64\n"
     ]
    }
   ],
   "source": [
    "start = len(train)\n",
    "end = len(train) + len(test) -1\n",
    "pred = model.predict(start = start, end = end, typ = 'levels')\n",
    "\n",
    "print(pred)\n",
    "pred.index = df.index[start: end + 1]"
   ]
  },
  {
   "cell_type": "code",
   "execution_count": 11,
   "id": "eb36a241",
   "metadata": {},
   "outputs": [
    {
     "data": {
      "text/plain": [
       "<AxesSubplot:xlabel='Date'>"
      ]
     },
     "execution_count": 11,
     "metadata": {},
     "output_type": "execute_result"
    },
    {
     "data": {
      "image/png": "[encoded data removed]",
      "text/plain": [
       "<Figure size 864x360 with 1 Axes>"
      ]
     },
     "metadata": {
      "needs_background": "light"
     },
     "output_type": "display_data"
    }
   ],
   "source": [
    "plt.figure(figsize = (12,5))\n",
    "pred.plot(legend = True)\n",
    "test['Close'].plot(legend= True)"
   ]
  },
  {
   "cell_type": "code",
   "execution_count": 12,
   "id": "20971f29",
   "metadata": {},
   "outputs": [
    {
     "data": {
      "text/plain": [
       "95.35725714285716"
      ]
     },
     "execution_count": 12,
     "metadata": {},
     "output_type": "execute_result"
    }
   ],
   "source": [
    "test['Close'].mean()"
   ]
  },
  {
   "cell_type": "code",
   "execution_count": 13,
   "id": "10f75322",
   "metadata": {},
   "outputs": [
    {
     "name": "stdout",
     "output_type": "stream",
     "text": [
      "RMSE:  14.101734029444325\n",
      "MAPE:  11.765925646936745\n"
     ]
    }
   ],
   "source": [
    "from sklearn.metrics import mean_squared_error\n",
    "from sklearn.metrics import mean_absolute_percentage_error\n",
    "\n",
    "mse =  mean_squared_error(pred, test['Close'])\n",
    "rmse = sqrt(mse)\n",
    "mape = mean_absolute_percentage_error(pred, test['Close'])\n",
    "print(\"RMSE: \", rmse)\n",
    "print(\"MAPE: \", mape * 100)"
   ]
  },
  {
   "cell_type": "code",
   "execution_count": 14,
   "id": "a7e7e778",
   "metadata": {},
   "outputs": [],
   "source": [
    "future_days = pd.date_range(start = \"04/03/2022\", end = \"01/11/2023\")\n",
    "pred = model.predict(start = len(df), end = len(df) + 283, typ = \" levels\").rename(\"Arima prediction\")\n",
    "pred.index = future_days"
   ]
  },
  {
   "cell_type": "code",
   "execution_count": 15,
   "id": "af7c9ce4",
   "metadata": {
    "scrolled": true
   },
   "outputs": [
    {
     "data": {
      "text/plain": [
       "<matplotlib.legend.Legend at 0x20df6bef910>"
      ]
     },
     "execution_count": 15,
     "metadata": {},
     "output_type": "execute_result"
    },
    {
     "data": {
      "image/png": "[encoded data removed]",
      "text/plain": [
       "<Figure size 864x360 with 1 Axes>"
      ]
     },
     "metadata": {
      "needs_background": "light"
     },
     "output_type": "display_data"
    }
   ],
   "source": [
    "pred.plot(figsize = (12,5))\n",
    "plt.legend(loc = 'upper left')"
   ]
  },
  {
   "cell_type": "code",
   "execution_count": 16,
   "id": "5106d0d0",
   "metadata": {},
   "outputs": [
    {
     "data": {
      "image/png": "[encoded data removed]",
      "text/plain": [
       "<Figure size 864x360 with 1 Axes>"
      ]
     },
     "metadata": {
      "needs_background": "light"
     },
     "output_type": "display_data"
    }
   ],
   "source": [
    "plt.figure(figsize = (12,5))\n",
    "pred.plot()\n",
    "df['Close'].plot()\n",
    "plt.plot(train, label = 'Train')\n",
    "plt.plot(test, label = 'Test')\n",
    "plt.legend(loc = 'upper left')\n",
    "plt.show()"
   ]
  },
  {
   "cell_type": "code",
   "execution_count": null,
   "id": "a141f5d6",
   "metadata": {},
   "outputs": [],
   "source": []
  }
 ],
 "metadata": {
  "kernelspec": {
   "display_name": "Python 3 (ipykernel)",
   "language": "python",
   "name": "python3"
  },
  "language_info": {
   "codemirror_mode": {
    "name": "ipython",
    "version": 3
   },
   "file_extension": ".py",
   "mimetype": "text/x-python",
   "name": "python",
   "nbconvert_exporter": "python",
   "pygments_lexer": "ipython3",
   "version": "3.9.12"
  }
 },
 "nbformat": 4,
 "nbformat_minor": 5
}
