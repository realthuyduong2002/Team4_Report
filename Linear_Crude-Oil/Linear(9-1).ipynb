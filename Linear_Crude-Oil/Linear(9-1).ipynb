{
 "cells": [
  {
   "cell_type": "code",
   "execution_count": 48,
   "id": "226f3b44",
   "metadata": {},
   "outputs": [],
   "source": [
    "import pandas as pd\n",
    "import numpy as np\n",
    "import matplotlib.pyplot as plt\n",
    "from sklearn.model_selection import train_test_split\n",
    "from sklearn.linear_model import LinearRegression"
   ]
  },
  {
   "cell_type": "code",
   "execution_count": 49,
   "id": "48ffaa72",
   "metadata": {},
   "outputs": [
    {
     "data": {
      "text/html": [
       "<div>\n",
       "<style scoped>\n",
       "    .dataframe tbody tr th:only-of-type {\n",
       "        vertical-align: middle;\n",
       "    }\n",
       "\n",
       "    .dataframe tbody tr th {\n",
       "        vertical-align: top;\n",
       "    }\n",
       "\n",
       "    .dataframe thead th {\n",
       "        text-align: right;\n",
       "    }\n",
       "</style>\n",
       "<table border=\"1\" class=\"dataframe\">\n",
       "  <thead>\n",
       "    <tr style=\"text-align: right;\">\n",
       "      <th></th>\n",
       "      <th>Open</th>\n",
       "      <th>High</th>\n",
       "      <th>Low</th>\n",
       "      <th>Close</th>\n",
       "      <th>Adj Close</th>\n",
       "      <th>Volume</th>\n",
       "    </tr>\n",
       "    <tr>\n",
       "      <th>Date</th>\n",
       "      <th></th>\n",
       "      <th></th>\n",
       "      <th></th>\n",
       "      <th></th>\n",
       "      <th></th>\n",
       "      <th></th>\n",
       "    </tr>\n",
       "  </thead>\n",
       "  <tbody>\n",
       "    <tr>\n",
       "      <th>2022-12-06</th>\n",
       "      <td>77.35</td>\n",
       "      <td>77.88</td>\n",
       "      <td>73.41</td>\n",
       "      <td>74.25</td>\n",
       "      <td>74.25</td>\n",
       "      <td>380598</td>\n",
       "    </tr>\n",
       "    <tr>\n",
       "      <th>2022-12-07</th>\n",
       "      <td>74.55</td>\n",
       "      <td>75.38</td>\n",
       "      <td>71.75</td>\n",
       "      <td>72.01</td>\n",
       "      <td>72.01</td>\n",
       "      <td>392236</td>\n",
       "    </tr>\n",
       "    <tr>\n",
       "      <th>2022-12-08</th>\n",
       "      <td>72.38</td>\n",
       "      <td>75.44</td>\n",
       "      <td>71.12</td>\n",
       "      <td>71.46</td>\n",
       "      <td>71.46</td>\n",
       "      <td>474459</td>\n",
       "    </tr>\n",
       "    <tr>\n",
       "      <th>2022-12-09</th>\n",
       "      <td>71.85</td>\n",
       "      <td>72.92</td>\n",
       "      <td>70.08</td>\n",
       "      <td>71.02</td>\n",
       "      <td>71.02</td>\n",
       "      <td>356722</td>\n",
       "    </tr>\n",
       "    <tr>\n",
       "      <th>2022-12-12</th>\n",
       "      <td>71.79</td>\n",
       "      <td>73.99</td>\n",
       "      <td>70.25</td>\n",
       "      <td>73.17</td>\n",
       "      <td>73.17</td>\n",
       "      <td>356722</td>\n",
       "    </tr>\n",
       "  </tbody>\n",
       "</table>\n",
       "</div>"
      ],
      "text/plain": [
       "             Open   High    Low  Close  Adj Close  Volume\n",
       "Date                                                     \n",
       "2022-12-06  77.35  77.88  73.41  74.25      74.25  380598\n",
       "2022-12-07  74.55  75.38  71.75  72.01      72.01  392236\n",
       "2022-12-08  72.38  75.44  71.12  71.46      71.46  474459\n",
       "2022-12-09  71.85  72.92  70.08  71.02      71.02  356722\n",
       "2022-12-12  71.79  73.99  70.25  73.17      73.17  356722"
      ]
     },
     "execution_count": 49,
     "metadata": {},
     "output_type": "execute_result"
    }
   ],
   "source": [
    "df = pd.read_csv(\"D:/Excel/Crude-Oil_160101-221213.csv\", index_col = 'Date', parse_dates = True)\n",
    "df.tail()"
   ]
  },
  {
   "cell_type": "code",
   "execution_count": 50,
   "id": "80051b38",
   "metadata": {},
   "outputs": [
    {
     "data": {
      "text/html": [
       "<div>\n",
       "<style scoped>\n",
       "    .dataframe tbody tr th:only-of-type {\n",
       "        vertical-align: middle;\n",
       "    }\n",
       "\n",
       "    .dataframe tbody tr th {\n",
       "        vertical-align: top;\n",
       "    }\n",
       "\n",
       "    .dataframe thead th {\n",
       "        text-align: right;\n",
       "    }\n",
       "</style>\n",
       "<table border=\"1\" class=\"dataframe\">\n",
       "  <thead>\n",
       "    <tr style=\"text-align: right;\">\n",
       "      <th></th>\n",
       "      <th>Open</th>\n",
       "      <th>High</th>\n",
       "      <th>Low</th>\n",
       "      <th>Close</th>\n",
       "      <th>Adj Close</th>\n",
       "      <th>Volume</th>\n",
       "      <th>Time</th>\n",
       "    </tr>\n",
       "    <tr>\n",
       "      <th>Date</th>\n",
       "      <th></th>\n",
       "      <th></th>\n",
       "      <th></th>\n",
       "      <th></th>\n",
       "      <th></th>\n",
       "      <th></th>\n",
       "      <th></th>\n",
       "    </tr>\n",
       "  </thead>\n",
       "  <tbody>\n",
       "    <tr>\n",
       "      <th>2022-12-06</th>\n",
       "      <td>77.35</td>\n",
       "      <td>77.88</td>\n",
       "      <td>73.41</td>\n",
       "      <td>74.25</td>\n",
       "      <td>74.25</td>\n",
       "      <td>380598</td>\n",
       "      <td>1744</td>\n",
       "    </tr>\n",
       "    <tr>\n",
       "      <th>2022-12-07</th>\n",
       "      <td>74.55</td>\n",
       "      <td>75.38</td>\n",
       "      <td>71.75</td>\n",
       "      <td>72.01</td>\n",
       "      <td>72.01</td>\n",
       "      <td>392236</td>\n",
       "      <td>1745</td>\n",
       "    </tr>\n",
       "    <tr>\n",
       "      <th>2022-12-08</th>\n",
       "      <td>72.38</td>\n",
       "      <td>75.44</td>\n",
       "      <td>71.12</td>\n",
       "      <td>71.46</td>\n",
       "      <td>71.46</td>\n",
       "      <td>474459</td>\n",
       "      <td>1746</td>\n",
       "    </tr>\n",
       "    <tr>\n",
       "      <th>2022-12-09</th>\n",
       "      <td>71.85</td>\n",
       "      <td>72.92</td>\n",
       "      <td>70.08</td>\n",
       "      <td>71.02</td>\n",
       "      <td>71.02</td>\n",
       "      <td>356722</td>\n",
       "      <td>1747</td>\n",
       "    </tr>\n",
       "    <tr>\n",
       "      <th>2022-12-12</th>\n",
       "      <td>71.79</td>\n",
       "      <td>73.99</td>\n",
       "      <td>70.25</td>\n",
       "      <td>73.17</td>\n",
       "      <td>73.17</td>\n",
       "      <td>356722</td>\n",
       "      <td>1748</td>\n",
       "    </tr>\n",
       "  </tbody>\n",
       "</table>\n",
       "</div>"
      ],
      "text/plain": [
       "             Open   High    Low  Close  Adj Close  Volume  Time\n",
       "Date                                                           \n",
       "2022-12-06  77.35  77.88  73.41  74.25      74.25  380598  1744\n",
       "2022-12-07  74.55  75.38  71.75  72.01      72.01  392236  1745\n",
       "2022-12-08  72.38  75.44  71.12  71.46      71.46  474459  1746\n",
       "2022-12-09  71.85  72.92  70.08  71.02      71.02  356722  1747\n",
       "2022-12-12  71.79  73.99  70.25  73.17      73.17  356722  1748"
      ]
     },
     "execution_count": 50,
     "metadata": {},
     "output_type": "execute_result"
    }
   ],
   "source": [
    "df['Time'] = np.arange(len(df.index))\n",
    "df.tail()"
   ]
  },
  {
   "cell_type": "code",
   "execution_count": 51,
   "id": "b1a006bc",
   "metadata": {},
   "outputs": [
    {
     "data": {
      "text/plain": [
       "<AxesSubplot:xlabel='Date'>"
      ]
     },
     "execution_count": 51,
     "metadata": {},
     "output_type": "execute_result"
    },
    {
     "data": {
      "image/png": "[encoded data removed]",
      "text/plain": [
       "<Figure size 864x360 with 1 Axes>"
      ]
     },
     "metadata": {
      "needs_background": "light"
     },
     "output_type": "display_data"
    }
   ],
   "source": [
    "df.plot(y = 'Close', figsize = (12,5))"
   ]
  },
  {
   "cell_type": "code",
   "execution_count": 52,
   "id": "238badd3",
   "metadata": {},
   "outputs": [],
   "source": [
    "x = df.loc[:, ['Time']]\n",
    "y = df.loc[:, 'Close']\n",
    "\n",
    "# Train the model\n",
    "model = LinearRegression()\n",
    "model.fit(x, y)\n",
    "\n",
    "# Store the fitted values as a time series with the same time index as the training data\n",
    "y_pred = pd.Series(model.predict(x), index = x.index)"
   ]
  },
  {
   "cell_type": "code",
   "execution_count": 53,
   "id": "de367406",
   "metadata": {},
   "outputs": [],
   "source": [
    "# Create Training and Test\n",
    "train = df.Close[:round(len(df) * 0.9)]\n",
    "test = df.Close[round(len(df) * 0.9):]"
   ]
  },
  {
   "cell_type": "code",
   "execution_count": 54,
   "id": "5490a966",
   "metadata": {},
   "outputs": [
    {
     "name": "stdout",
     "output_type": "stream",
     "text": [
      "Train: 1574\n",
      "Test: 175\n"
     ]
    }
   ],
   "source": [
    "print('Train:', len(train))\n",
    "print('Test:', len(test))"
   ]
  },
  {
   "cell_type": "code",
   "execution_count": 55,
   "id": "bcc52585",
   "metadata": {},
   "outputs": [],
   "source": [
    "x_train, x_test, y_train, y_test = train_test_split(x, y, test_size = 0.1)"
   ]
  },
  {
   "cell_type": "code",
   "execution_count": 56,
   "id": "41438b60",
   "metadata": {},
   "outputs": [
    {
     "data": {
      "text/plain": [
       "LinearRegression()"
      ]
     },
     "execution_count": 56,
     "metadata": {},
     "output_type": "execute_result"
    }
   ],
   "source": [
    "model = LinearRegression()\n",
    "model.fit(x_train, y_train)"
   ]
  },
  {
   "cell_type": "code",
   "execution_count": 57,
   "id": "757c555a",
   "metadata": {},
   "outputs": [
    {
     "data": {
      "image/png": "[encoded data removed]",
      "text/plain": [
       "<Figure size 864x360 with 1 Axes>"
      ]
     },
     "metadata": {
      "needs_background": "light"
     },
     "output_type": "display_data"
    }
   ],
   "source": [
    "plt.figure(figsize = (12,5))\n",
    "plt.title('Crude oil forecast LR Model')\n",
    "y_pred.plot(label = 'Linear prediction')\n",
    "plt.plot(train, label = 'Train')\n",
    "plt.plot(test, label = 'Test')\n",
    "plt.legend(loc = 'upper left')\n",
    "plt.show()"
   ]
  },
  {
   "cell_type": "code",
   "execution_count": 58,
   "id": "f4bc4673",
   "metadata": {},
   "outputs": [
    {
     "name": "stdout",
     "output_type": "stream",
     "text": [
      "RMSE:  43.62333899580427\n",
      "MAPE:  85.28601437658706\n"
     ]
    }
   ],
   "source": [
    "from sklearn.metrics import mean_squared_error\n",
    "from sklearn.metrics import mean_absolute_percentage_error\n",
    "from math import sqrt\n",
    "from sklearn.metrics import r2_score\n",
    "\n",
    "mse =  mean_squared_error(y_test, test)\n",
    "rmse = sqrt(mse)\n",
    "mape = mean_absolute_percentage_error(y_test, test)\n",
    "r2 = r2_score(y_test, test)\n",
    "print(\"RMSE: \", rmse)\n",
    "print(\"MAPE: \", mape * 100)"
   ]
  },
  {
   "cell_type": "code",
   "execution_count": null,
   "id": "88240ea9",
   "metadata": {},
   "outputs": [],
   "source": []
  }
 ],
 "metadata": {
  "kernelspec": {
   "display_name": "Python 3 (ipykernel)",
   "language": "python",
   "name": "python3"
  },
  "language_info": {
   "codemirror_mode": {
    "name": "ipython",
    "version": 3
   },
   "file_extension": ".py",
   "mimetype": "text/x-python",
   "name": "python",
   "nbconvert_exporter": "python",
   "pygments_lexer": "ipython3",
   "version": "3.9.12"
  }
 },
 "nbformat": 4,
 "nbformat_minor": 5
}
