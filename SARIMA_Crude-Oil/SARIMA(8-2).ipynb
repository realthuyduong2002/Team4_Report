{
 "cells": [
  {
   "cell_type": "code",
   "execution_count": 1,
   "metadata": {},
   "outputs": [],
   "source": [
    "import pandas as pd\n",
    "import numpy as np\n",
    "import matplotlib.pyplot as plt\n",
    "from statsmodels.tsa.arima_model import ARIMA\n",
    "import statsmodels.api as sm\n",
    "from pmdarima import auto_arima\n",
    "from statsmodels.tsa.seasonal import seasonal_decompose\n",
    "from statsmodels.tsa.stattools import adfuller\n",
    "from math import sqrt"
   ]
  },
  {
   "cell_type": "code",
   "execution_count": 2,
   "metadata": {},
   "outputs": [
    {
     "data": {
      "text/html": [
       "<div>\n",
       "<style scoped>\n",
       "    .dataframe tbody tr th:only-of-type {\n",
       "        vertical-align: middle;\n",
       "    }\n",
       "\n",
       "    .dataframe tbody tr th {\n",
       "        vertical-align: top;\n",
       "    }\n",
       "\n",
       "    .dataframe thead th {\n",
       "        text-align: right;\n",
       "    }\n",
       "</style>\n",
       "<table border=\"1\" class=\"dataframe\">\n",
       "  <thead>\n",
       "    <tr style=\"text-align: right;\">\n",
       "      <th></th>\n",
       "      <th>Close</th>\n",
       "    </tr>\n",
       "    <tr>\n",
       "      <th>Date</th>\n",
       "      <th></th>\n",
       "    </tr>\n",
       "  </thead>\n",
       "  <tbody>\n",
       "    <tr>\n",
       "      <th>2016-01-04</th>\n",
       "      <td>36.76</td>\n",
       "    </tr>\n",
       "    <tr>\n",
       "      <th>2016-01-05</th>\n",
       "      <td>35.97</td>\n",
       "    </tr>\n",
       "    <tr>\n",
       "      <th>2016-01-06</th>\n",
       "      <td>33.97</td>\n",
       "    </tr>\n",
       "    <tr>\n",
       "      <th>2016-01-07</th>\n",
       "      <td>33.27</td>\n",
       "    </tr>\n",
       "    <tr>\n",
       "      <th>2016-01-08</th>\n",
       "      <td>33.16</td>\n",
       "    </tr>\n",
       "    <tr>\n",
       "      <th>...</th>\n",
       "      <td>...</td>\n",
       "    </tr>\n",
       "    <tr>\n",
       "      <th>2022-12-06</th>\n",
       "      <td>74.25</td>\n",
       "    </tr>\n",
       "    <tr>\n",
       "      <th>2022-12-07</th>\n",
       "      <td>72.01</td>\n",
       "    </tr>\n",
       "    <tr>\n",
       "      <th>2022-12-08</th>\n",
       "      <td>71.46</td>\n",
       "    </tr>\n",
       "    <tr>\n",
       "      <th>2022-12-09</th>\n",
       "      <td>71.02</td>\n",
       "    </tr>\n",
       "    <tr>\n",
       "      <th>2022-12-12</th>\n",
       "      <td>73.17</td>\n",
       "    </tr>\n",
       "  </tbody>\n",
       "</table>\n",
       "<p>1749 rows × 1 columns</p>\n",
       "</div>"
      ],
      "text/plain": [
       "            Close\n",
       "Date             \n",
       "2016-01-04  36.76\n",
       "2016-01-05  35.97\n",
       "2016-01-06  33.97\n",
       "2016-01-07  33.27\n",
       "2016-01-08  33.16\n",
       "...           ...\n",
       "2022-12-06  74.25\n",
       "2022-12-07  72.01\n",
       "2022-12-08  71.46\n",
       "2022-12-09  71.02\n",
       "2022-12-12  73.17\n",
       "\n",
       "[1749 rows x 1 columns]"
      ]
     },
     "execution_count": 2,
     "metadata": {},
     "output_type": "execute_result"
    }
   ],
   "source": [
    "df = pd.read_csv(\"D:/Excel/Crude-Oil_160101-221213.csv\", index_col = \"Date\", parse_dates = True)\n",
    "df.tail()\n",
    "df.drop(df.columns[[0,1,2,4,5]], axis=1, inplace=True)\n",
    "df"
   ]
  },
  {
   "cell_type": "code",
   "execution_count": 3,
   "metadata": {},
   "outputs": [
    {
     "data": {
      "text/plain": [
       "<AxesSubplot:xlabel='Date'>"
      ]
     },
     "execution_count": 3,
     "metadata": {},
     "output_type": "execute_result"
    },
    {
     "data": {
      "image/png": "[encoded data removed]",
      "text/plain": [
       "<Figure size 864x360 with 1 Axes>"
      ]
     },
     "metadata": {
      "needs_background": "light"
     },
     "output_type": "display_data"
    }
   ],
   "source": [
    "df.plot(y = 'Close', figsize = (12,5))"
   ]
  },
  {
   "cell_type": "code",
   "execution_count": 4,
   "metadata": {},
   "outputs": [
    {
     "name": "stdout",
     "output_type": "stream",
     "text": [
      "1. ADF Statistic: -1.9578315343434511\n",
      "2. p-value :  0.3053628860646654\n",
      "3. Lags :  3\n",
      "4. Critical values : 1745\n",
      "\t 1%   -3.434102977404239\n",
      "\t 5%   -2.8631977303784235\n",
      "\t 10%   -2.5676525270728483\n"
     ]
    }
   ],
   "source": [
    "def ad_test(dataset):\n",
    "    result = adfuller(dataset, autolag = 'AIC')\n",
    "    print(\"1. ADF Statistic:\" , result[0])\n",
    "    print(\"2. p-value : \", result[1])\n",
    "    print(\"3. Lags : \", result[2])\n",
    "    print(\"4. Critical values :\" , result[3])\n",
    "    for key, val in result[4].items():\n",
    "        print(\"\\t\", key ,\" \", val)\n",
    "ad_test(df['Close'])"
   ]
  },
  {
   "cell_type": "code",
   "execution_count": 5,
   "metadata": {},
   "outputs": [
    {
     "name": "stdout",
     "output_type": "stream",
     "text": [
      "Performing stepwise search to minimize aic\n",
      " ARIMA(2,1,2)(1,0,1)[7] intercept   : AIC=7901.266, Time=2.24 sec\n",
      " ARIMA(0,1,0)(0,0,0)[7] intercept   : AIC=8023.213, Time=0.03 sec\n",
      " ARIMA(1,1,0)(1,0,0)[7] intercept   : AIC=7922.498, Time=0.19 sec\n",
      " ARIMA(0,1,1)(0,0,1)[7] intercept   : AIC=7903.179, Time=0.22 sec\n",
      " ARIMA(0,1,0)(0,0,0)[7]             : AIC=8021.345, Time=0.04 sec\n",
      " ARIMA(2,1,2)(0,0,1)[7] intercept   : AIC=7903.268, Time=1.54 sec\n",
      " ARIMA(2,1,2)(1,0,0)[7] intercept   : AIC=7903.251, Time=1.46 sec\n",
      " ARIMA(2,1,2)(2,0,1)[7] intercept   : AIC=7902.760, Time=3.70 sec\n",
      " ARIMA(2,1,2)(1,0,2)[7] intercept   : AIC=7902.774, Time=3.59 sec\n",
      " ARIMA(2,1,2)(0,0,0)[7] intercept   : AIC=7901.505, Time=1.10 sec\n",
      " ARIMA(2,1,2)(0,0,2)[7] intercept   : AIC=7903.065, Time=2.57 sec\n",
      " ARIMA(2,1,2)(2,0,0)[7] intercept   : AIC=7902.925, Time=2.13 sec\n",
      " ARIMA(2,1,2)(2,0,2)[7] intercept   : AIC=7904.615, Time=4.11 sec\n",
      " ARIMA(1,1,2)(1,0,1)[7] intercept   : AIC=7899.425, Time=1.84 sec\n",
      " ARIMA(1,1,2)(0,0,1)[7] intercept   : AIC=7901.368, Time=0.75 sec\n",
      " ARIMA(1,1,2)(1,0,0)[7] intercept   : AIC=7901.355, Time=0.88 sec\n",
      " ARIMA(1,1,2)(2,0,1)[7] intercept   : AIC=7900.888, Time=2.02 sec\n",
      " ARIMA(1,1,2)(1,0,2)[7] intercept   : AIC=7900.903, Time=2.57 sec\n",
      " ARIMA(1,1,2)(0,0,0)[7] intercept   : AIC=7899.537, Time=0.50 sec\n",
      " ARIMA(1,1,2)(0,0,2)[7] intercept   : AIC=7901.189, Time=1.41 sec\n",
      " ARIMA(1,1,2)(2,0,0)[7] intercept   : AIC=7901.054, Time=1.31 sec\n",
      " ARIMA(1,1,2)(2,0,2)[7] intercept   : AIC=7902.727, Time=4.10 sec\n",
      " ARIMA(0,1,2)(1,0,1)[7] intercept   : AIC=7898.329, Time=1.11 sec\n",
      " ARIMA(0,1,2)(0,0,1)[7] intercept   : AIC=7900.527, Time=0.41 sec\n",
      " ARIMA(0,1,2)(1,0,0)[7] intercept   : AIC=7900.506, Time=0.31 sec\n",
      " ARIMA(0,1,2)(2,0,1)[7] intercept   : AIC=7899.813, Time=1.52 sec\n",
      " ARIMA(0,1,2)(1,0,2)[7] intercept   : AIC=7899.828, Time=2.03 sec\n",
      " ARIMA(0,1,2)(0,0,0)[7] intercept   : AIC=7898.800, Time=0.21 sec\n",
      " ARIMA(0,1,2)(0,0,2)[7] intercept   : AIC=7900.129, Time=0.65 sec\n",
      " ARIMA(0,1,2)(2,0,0)[7] intercept   : AIC=7899.974, Time=0.48 sec\n",
      " ARIMA(0,1,2)(2,0,2)[7] intercept   : AIC=7901.622, Time=2.37 sec\n",
      " ARIMA(0,1,1)(1,0,1)[7] intercept   : AIC=7901.185, Time=0.79 sec\n",
      " ARIMA(0,1,3)(1,0,1)[7] intercept   : AIC=7899.242, Time=1.11 sec\n",
      " ARIMA(1,1,1)(1,0,1)[7] intercept   : AIC=7897.636, Time=1.13 sec\n",
      " ARIMA(1,1,1)(0,0,1)[7] intercept   : AIC=7899.760, Time=0.49 sec\n",
      " ARIMA(1,1,1)(1,0,0)[7] intercept   : AIC=7899.740, Time=0.44 sec\n",
      " ARIMA(1,1,1)(2,0,1)[7] intercept   : AIC=7899.130, Time=1.64 sec\n",
      " ARIMA(1,1,1)(1,0,2)[7] intercept   : AIC=7899.145, Time=2.01 sec\n",
      " ARIMA(1,1,1)(0,0,0)[7] intercept   : AIC=7898.028, Time=0.24 sec\n",
      " ARIMA(1,1,1)(0,0,2)[7] intercept   : AIC=7899.438, Time=0.85 sec\n",
      " ARIMA(1,1,1)(2,0,0)[7] intercept   : AIC=7899.289, Time=0.65 sec\n",
      " ARIMA(1,1,1)(2,0,2)[7] intercept   : AIC=7900.959, Time=3.17 sec\n",
      " ARIMA(1,1,0)(1,0,1)[7] intercept   : AIC=7921.424, Time=0.78 sec\n",
      " ARIMA(2,1,1)(1,0,1)[7] intercept   : AIC=7899.390, Time=1.42 sec\n",
      " ARIMA(0,1,0)(1,0,1)[7] intercept   : AIC=8025.455, Time=0.62 sec\n",
      " ARIMA(2,1,0)(1,0,1)[7] intercept   : AIC=7905.559, Time=0.88 sec\n",
      " ARIMA(1,1,1)(1,0,1)[7]             : AIC=7895.980, Time=0.59 sec\n",
      " ARIMA(1,1,1)(0,0,1)[7]             : AIC=7898.100, Time=0.21 sec\n",
      " ARIMA(1,1,1)(1,0,0)[7]             : AIC=7898.081, Time=0.24 sec\n",
      " ARIMA(1,1,1)(2,0,1)[7]             : AIC=7897.460, Time=0.94 sec\n",
      " ARIMA(1,1,1)(1,0,2)[7]             : AIC=7897.475, Time=1.04 sec\n",
      " ARIMA(1,1,1)(0,0,0)[7]             : AIC=7896.357, Time=0.13 sec\n",
      " ARIMA(1,1,1)(0,0,2)[7]             : AIC=7897.750, Time=0.42 sec\n",
      " ARIMA(1,1,1)(2,0,0)[7]             : AIC=7897.601, Time=0.38 sec\n",
      " ARIMA(1,1,1)(2,0,2)[7]             : AIC=7899.277, Time=1.56 sec\n",
      " ARIMA(0,1,1)(1,0,1)[7]             : AIC=7899.474, Time=0.49 sec\n",
      " ARIMA(1,1,0)(1,0,1)[7]             : AIC=7919.643, Time=0.46 sec\n",
      " ARIMA(2,1,1)(1,0,1)[7]             : AIC=7897.745, Time=0.80 sec\n",
      " ARIMA(1,1,2)(1,0,1)[7]             : AIC=7897.779, Time=1.07 sec\n",
      " ARIMA(0,1,0)(1,0,1)[7]             : AIC=8023.590, Time=0.45 sec\n",
      " ARIMA(0,1,2)(1,0,1)[7]             : AIC=7896.658, Time=0.55 sec\n",
      " ARIMA(2,1,0)(1,0,1)[7]             : AIC=7903.830, Time=0.55 sec\n",
      " ARIMA(2,1,2)(1,0,1)[7]             : AIC=7899.618, Time=1.63 sec\n",
      "\n",
      "Best model:  ARIMA(1,1,1)(1,0,1)[7]          \n",
      "Total fit time: 75.190 seconds\n"
     ]
    },
    {
     "data": {
      "text/html": [
       "<table class=\"simpletable\">\n",
       "<caption>SARIMAX Results</caption>\n",
       "<tr>\n",
       "  <th>Dep. Variable:</th>                 <td>y</td>               <th>  No. Observations:  </th>   <td>1749</td>   \n",
       "</tr>\n",
       "<tr>\n",
       "  <th>Model:</th>           <td>SARIMAX(1, 1, 1)x(1, 0, 1, 7)</td> <th>  Log Likelihood     </th> <td>-3942.990</td>\n",
       "</tr>\n",
       "<tr>\n",
       "  <th>Date:</th>                  <td>Mon, 02 Jan 2023</td>        <th>  AIC                </th> <td>7895.980</td> \n",
       "</tr>\n",
       "<tr>\n",
       "  <th>Time:</th>                      <td>17:29:11</td>            <th>  BIC                </th> <td>7923.311</td> \n",
       "</tr>\n",
       "<tr>\n",
       "  <th>Sample:</th>                        <td>0</td>               <th>  HQIC               </th> <td>7906.084</td> \n",
       "</tr>\n",
       "<tr>\n",
       "  <th></th>                            <td> - 1749</td>            <th>                     </th>     <td> </td>    \n",
       "</tr>\n",
       "<tr>\n",
       "  <th>Covariance Type:</th>              <td>opg</td>              <th>                     </th>     <td> </td>    \n",
       "</tr>\n",
       "</table>\n",
       "<table class=\"simpletable\">\n",
       "<tr>\n",
       "     <td></td>        <th>coef</th>     <th>std err</th>      <th>z</th>      <th>P>|z|</th>  <th>[0.025</th>    <th>0.975]</th>  \n",
       "</tr>\n",
       "<tr>\n",
       "  <th>ar.L1</th>   <td>    0.1959</td> <td>    0.029</td> <td>    6.748</td> <td> 0.000</td> <td>    0.139</td> <td>    0.253</td>\n",
       "</tr>\n",
       "<tr>\n",
       "  <th>ma.L1</th>   <td>   -0.4708</td> <td>    0.028</td> <td>  -16.519</td> <td> 0.000</td> <td>   -0.527</td> <td>   -0.415</td>\n",
       "</tr>\n",
       "<tr>\n",
       "  <th>ar.S.L7</th> <td>   -0.8825</td> <td>    0.128</td> <td>   -6.875</td> <td> 0.000</td> <td>   -1.134</td> <td>   -0.631</td>\n",
       "</tr>\n",
       "<tr>\n",
       "  <th>ma.S.L7</th> <td>    0.8590</td> <td>    0.137</td> <td>    6.267</td> <td> 0.000</td> <td>    0.590</td> <td>    1.128</td>\n",
       "</tr>\n",
       "<tr>\n",
       "  <th>sigma2</th>  <td>    5.3306</td> <td>    0.019</td> <td>  277.048</td> <td> 0.000</td> <td>    5.293</td> <td>    5.368</td>\n",
       "</tr>\n",
       "</table>\n",
       "<table class=\"simpletable\">\n",
       "<tr>\n",
       "  <th>Ljung-Box (L1) (Q):</th>     <td>0.00</td> <th>  Jarque-Bera (JB):  </th> <td>3704727.07</td>\n",
       "</tr>\n",
       "<tr>\n",
       "  <th>Prob(Q):</th>                <td>0.95</td> <th>  Prob(JB):          </th>    <td>0.00</td>   \n",
       "</tr>\n",
       "<tr>\n",
       "  <th>Heteroskedasticity (H):</th> <td>5.08</td> <th>  Skew:              </th>    <td>-7.05</td>  \n",
       "</tr>\n",
       "<tr>\n",
       "  <th>Prob(H) (two-sided):</th>    <td>0.00</td> <th>  Kurtosis:          </th>   <td>228.09</td>  \n",
       "</tr>\n",
       "</table><br/><br/>Warnings:<br/>[1] Covariance matrix calculated using the outer product of gradients (complex-step)."
      ],
      "text/plain": [
       "<class 'statsmodels.iolib.summary.Summary'>\n",
       "\"\"\"\n",
       "                                     SARIMAX Results                                     \n",
       "=========================================================================================\n",
       "Dep. Variable:                                 y   No. Observations:                 1749\n",
       "Model:             SARIMAX(1, 1, 1)x(1, 0, 1, 7)   Log Likelihood               -3942.990\n",
       "Date:                           Mon, 02 Jan 2023   AIC                           7895.980\n",
       "Time:                                   17:29:11   BIC                           7923.311\n",
       "Sample:                                        0   HQIC                          7906.084\n",
       "                                          - 1749                                         \n",
       "Covariance Type:                             opg                                         \n",
       "==============================================================================\n",
       "                 coef    std err          z      P>|z|      [0.025      0.975]\n",
       "------------------------------------------------------------------------------\n",
       "ar.L1          0.1959      0.029      6.748      0.000       0.139       0.253\n",
       "ma.L1         -0.4708      0.028    -16.519      0.000      -0.527      -0.415\n",
       "ar.S.L7       -0.8825      0.128     -6.875      0.000      -1.134      -0.631\n",
       "ma.S.L7        0.8590      0.137      6.267      0.000       0.590       1.128\n",
       "sigma2         5.3306      0.019    277.048      0.000       5.293       5.368\n",
       "===================================================================================\n",
       "Ljung-Box (L1) (Q):                   0.00   Jarque-Bera (JB):           3704727.07\n",
       "Prob(Q):                              0.95   Prob(JB):                         0.00\n",
       "Heteroskedasticity (H):               5.08   Skew:                            -7.05\n",
       "Prob(H) (two-sided):                  0.00   Kurtosis:                       228.09\n",
       "===================================================================================\n",
       "\n",
       "Warnings:\n",
       "[1] Covariance matrix calculated using the outer product of gradients (complex-step).\n",
       "\"\"\""
      ]
     },
     "execution_count": 5,
     "metadata": {},
     "output_type": "execute_result"
    }
   ],
   "source": [
    "stepwise_fit = auto_arima(df[\"Close\"],trace = True, suppress_warnings= True, seasonal = True, m = 7)\n",
    "stepwise_fit.summary()"
   ]
  },
  {
   "cell_type": "code",
   "execution_count": 6,
   "metadata": {},
   "outputs": [],
   "source": [
    "def split_data(data, test_split):\n",
    "    length = len(data)\n",
    "    size = round(length * (1 - test_split))\n",
    "    train, test = data[:size], data[size:]\n",
    "    print('train:', len(train))\n",
    "    print('test:', len(test))\n",
    "    return train, test"
   ]
  },
  {
   "cell_type": "code",
   "execution_count": 7,
   "metadata": {},
   "outputs": [
    {
     "name": "stdout",
     "output_type": "stream",
     "text": [
      "train: 1399\n",
      "test: 350\n"
     ]
    }
   ],
   "source": [
    "test_split = 0.2\n",
    "train, test = split_data(df, test_split)"
   ]
  },
  {
   "cell_type": "code",
   "execution_count": 8,
   "metadata": {},
   "outputs": [],
   "source": [
    "import warnings\n",
    "warnings.filterwarnings(\"ignore\")"
   ]
  },
  {
   "cell_type": "code",
   "execution_count": 9,
   "metadata": {},
   "outputs": [
    {
     "data": {
      "text/html": [
       "<table class=\"simpletable\">\n",
       "<caption>SARIMAX Results</caption>\n",
       "<tr>\n",
       "  <th>Dep. Variable:</th>               <td>Close</td>             <th>  No. Observations:  </th>   <td>1399</td>   \n",
       "</tr>\n",
       "<tr>\n",
       "  <th>Model:</th>           <td>SARIMAX(1, 1, 1)x(1, 0, 1, 7)</td> <th>  Log Likelihood     </th> <td>-3052.807</td>\n",
       "</tr>\n",
       "<tr>\n",
       "  <th>Date:</th>                  <td>Mon, 02 Jan 2023</td>        <th>  AIC                </th> <td>6115.613</td> \n",
       "</tr>\n",
       "<tr>\n",
       "  <th>Time:</th>                      <td>17:29:12</td>            <th>  BIC                </th> <td>6141.827</td> \n",
       "</tr>\n",
       "<tr>\n",
       "  <th>Sample:</th>                        <td>0</td>               <th>  HQIC               </th> <td>6125.413</td> \n",
       "</tr>\n",
       "<tr>\n",
       "  <th></th>                            <td> - 1399</td>            <th>                     </th>     <td> </td>    \n",
       "</tr>\n",
       "<tr>\n",
       "  <th>Covariance Type:</th>              <td>opg</td>              <th>                     </th>     <td> </td>    \n",
       "</tr>\n",
       "</table>\n",
       "<table class=\"simpletable\">\n",
       "<tr>\n",
       "     <td></td>        <th>coef</th>     <th>std err</th>      <th>z</th>      <th>P>|z|</th>  <th>[0.025</th>    <th>0.975]</th>  \n",
       "</tr>\n",
       "<tr>\n",
       "  <th>ar.L1</th>   <td>    0.0649</td> <td>    0.016</td> <td>    4.071</td> <td> 0.000</td> <td>    0.034</td> <td>    0.096</td>\n",
       "</tr>\n",
       "<tr>\n",
       "  <th>ma.L1</th>   <td>   -0.4635</td> <td>    0.016</td> <td>  -28.794</td> <td> 0.000</td> <td>   -0.495</td> <td>   -0.432</td>\n",
       "</tr>\n",
       "<tr>\n",
       "  <th>ar.S.L7</th> <td>    0.4839</td> <td>    0.763</td> <td>    0.634</td> <td> 0.526</td> <td>   -1.012</td> <td>    1.980</td>\n",
       "</tr>\n",
       "<tr>\n",
       "  <th>ma.S.L7</th> <td>   -0.4573</td> <td>    0.767</td> <td>   -0.596</td> <td> 0.551</td> <td>   -1.960</td> <td>    1.046</td>\n",
       "</tr>\n",
       "<tr>\n",
       "  <th>sigma2</th>  <td>    4.6152</td> <td>    0.016</td> <td>  296.808</td> <td> 0.000</td> <td>    4.585</td> <td>    4.646</td>\n",
       "</tr>\n",
       "</table>\n",
       "<table class=\"simpletable\">\n",
       "<tr>\n",
       "  <th>Ljung-Box (L1) (Q):</th>     <td>0.00</td> <th>  Jarque-Bera (JB):  </th> <td>7583873.12</td>\n",
       "</tr>\n",
       "<tr>\n",
       "  <th>Prob(Q):</th>                <td>0.99</td> <th>  Prob(JB):          </th>    <td>0.00</td>   \n",
       "</tr>\n",
       "<tr>\n",
       "  <th>Heteroskedasticity (H):</th> <td>9.21</td> <th>  Skew:              </th>   <td>-12.04</td>  \n",
       "</tr>\n",
       "<tr>\n",
       "  <th>Prob(H) (two-sided):</th>    <td>0.00</td> <th>  Kurtosis:          </th>   <td>363.02</td>  \n",
       "</tr>\n",
       "</table><br/><br/>Warnings:<br/>[1] Covariance matrix calculated using the outer product of gradients (complex-step)."
      ],
      "text/plain": [
       "<class 'statsmodels.iolib.summary.Summary'>\n",
       "\"\"\"\n",
       "                                     SARIMAX Results                                     \n",
       "=========================================================================================\n",
       "Dep. Variable:                             Close   No. Observations:                 1399\n",
       "Model:             SARIMAX(1, 1, 1)x(1, 0, 1, 7)   Log Likelihood               -3052.807\n",
       "Date:                           Mon, 02 Jan 2023   AIC                           6115.613\n",
       "Time:                                   17:29:12   BIC                           6141.827\n",
       "Sample:                                        0   HQIC                          6125.413\n",
       "                                          - 1399                                         \n",
       "Covariance Type:                             opg                                         \n",
       "==============================================================================\n",
       "                 coef    std err          z      P>|z|      [0.025      0.975]\n",
       "------------------------------------------------------------------------------\n",
       "ar.L1          0.0649      0.016      4.071      0.000       0.034       0.096\n",
       "ma.L1         -0.4635      0.016    -28.794      0.000      -0.495      -0.432\n",
       "ar.S.L7        0.4839      0.763      0.634      0.526      -1.012       1.980\n",
       "ma.S.L7       -0.4573      0.767     -0.596      0.551      -1.960       1.046\n",
       "sigma2         4.6152      0.016    296.808      0.000       4.585       4.646\n",
       "===================================================================================\n",
       "Ljung-Box (L1) (Q):                   0.00   Jarque-Bera (JB):           7583873.12\n",
       "Prob(Q):                              0.99   Prob(JB):                         0.00\n",
       "Heteroskedasticity (H):               9.21   Skew:                           -12.04\n",
       "Prob(H) (two-sided):                  0.00   Kurtosis:                       363.02\n",
       "===================================================================================\n",
       "\n",
       "Warnings:\n",
       "[1] Covariance matrix calculated using the outer product of gradients (complex-step).\n",
       "\"\"\""
      ]
     },
     "execution_count": 9,
     "metadata": {},
     "output_type": "execute_result"
    }
   ],
   "source": [
    "model = sm.tsa.SARIMAX(train['Close'], order = (1,1,1), seasonal_order = (1,0,1,7))\n",
    "model = model.fit()\n",
    "model.summary()"
   ]
  },
  {
   "cell_type": "code",
   "execution_count": 10,
   "metadata": {},
   "outputs": [
    {
     "name": "stdout",
     "output_type": "stream",
     "text": [
      "1399    71.509715\n",
      "1400    71.557190\n",
      "1401    71.636809\n",
      "1402    71.703705\n",
      "1403    71.682246\n",
      "          ...    \n",
      "1744    71.634515\n",
      "1745    71.634515\n",
      "1746    71.634515\n",
      "1747    71.634515\n",
      "1748    71.634515\n",
      "Name: predicted_mean, Length: 350, dtype: float64\n"
     ]
    }
   ],
   "source": [
    "start = len(train)\n",
    "end = len(train) + len(test) - 1\n",
    "pred = model.predict(start = start, end = end, typ = 'levels')\n",
    "\n",
    "print(pred)\n",
    "pred.index = df.index[start: end + 1]"
   ]
  },
  {
   "cell_type": "code",
   "execution_count": 11,
   "metadata": {},
   "outputs": [
    {
     "data": {
      "text/plain": [
       "<AxesSubplot:xlabel='Date'>"
      ]
     },
     "execution_count": 11,
     "metadata": {},
     "output_type": "execute_result"
    },
    {
     "data": {
      "image/png": "[encoded data removed]",
      "text/plain": [
       "<Figure size 864x360 with 1 Axes>"
      ]
     },
     "metadata": {
      "needs_background": "light"
     },
     "output_type": "display_data"
    }
   ],
   "source": [
    "plt.figure(figsize = (12,5))\n",
    "pred.plot(legend = True)\n",
    "test['Close'].plot(legend= True)"
   ]
  },
  {
   "cell_type": "code",
   "execution_count": 12,
   "metadata": {},
   "outputs": [
    {
     "data": {
      "text/plain": [
       "88.58657142857138"
      ]
     },
     "execution_count": 12,
     "metadata": {},
     "output_type": "execute_result"
    }
   ],
   "source": [
    "test['Close'].mean()"
   ]
  },
  {
   "cell_type": "code",
   "execution_count": 13,
   "metadata": {},
   "outputs": [
    {
     "name": "stdout",
     "output_type": "stream",
     "text": [
      "RMSE:  22.239178300829145\n",
      "MAPE:  24.835940000144845\n"
     ]
    }
   ],
   "source": [
    "from sklearn.metrics import mean_squared_error\n",
    "from sklearn.metrics import mean_absolute_percentage_error\n",
    "from sklearn.metrics import r2_score\n",
    "\n",
    "mse =  mean_squared_error(pred, test[\"Close\"])\n",
    "rmse = sqrt(mse)\n",
    "mape = mean_absolute_percentage_error(pred, test[\"Close\"])\n",
    "r2 = r2_score(pred, test['Close'])\n",
    "print(\"RMSE: \", rmse)\n",
    "print(\"MAPE: \", mape * 100)"
   ]
  },
  {
   "cell_type": "code",
   "execution_count": 17,
   "metadata": {},
   "outputs": [],
   "source": [
    "future_days = pd.date_range(start = \"07/26/2021\", end = \"01/11/2023\")\n",
    "pred = model.predict(start = len(df), end = len(df) + 534, typ = \" levels\").rename(\"Sarima prediction\")\n",
    "pred.index = future_days"
   ]
  },
  {
   "cell_type": "code",
   "execution_count": 18,
   "metadata": {},
   "outputs": [
    {
     "data": {
      "text/plain": [
       "<matplotlib.legend.Legend at 0x1de10a5aee0>"
      ]
     },
     "execution_count": 18,
     "metadata": {},
     "output_type": "execute_result"
    },
    {
     "data": {
      "image/png": "[encoded data removed]",
      "text/plain": [
       "<Figure size 864x360 with 1 Axes>"
      ]
     },
     "metadata": {
      "needs_background": "light"
     },
     "output_type": "display_data"
    }
   ],
   "source": [
    "pred.plot(figsize = (12,5))\n",
    "plt.legend(loc = 'upper left')"
   ]
  },
  {
   "cell_type": "code",
   "execution_count": 16,
   "metadata": {},
   "outputs": [
    {
     "data": {
      "image/png": "[encoded data removed]",
      "text/plain": [
       "<Figure size 864x360 with 1 Axes>"
      ]
     },
     "metadata": {
      "needs_background": "light"
     },
     "output_type": "display_data"
    }
   ],
   "source": [
    "plt.figure(figsize = (12,5))\n",
    "pred.plot()\n",
    "df['Close'].plot()\n",
    "plt.plot(train, label = 'Train')\n",
    "plt.plot(test, label = 'Test')\n",
    "plt.legend(loc = 'upper left')\n",
    "plt.show()"
   ]
  },
  {
   "cell_type": "code",
   "execution_count": null,
   "metadata": {},
   "outputs": [],
   "source": []
  }
 ],
 "metadata": {
  "kernelspec": {
   "display_name": "Python 3 (ipykernel)",
   "language": "python",
   "name": "python3"
  },
  "language_info": {
   "codemirror_mode": {
    "name": "ipython",
    "version": 3
   },
   "file_extension": ".py",
   "mimetype": "text/x-python",
   "name": "python",
   "nbconvert_exporter": "python",
   "pygments_lexer": "ipython3",
   "version": "3.9.12"
  }
 },
 "nbformat": 4,
 "nbformat_minor": 2
}
